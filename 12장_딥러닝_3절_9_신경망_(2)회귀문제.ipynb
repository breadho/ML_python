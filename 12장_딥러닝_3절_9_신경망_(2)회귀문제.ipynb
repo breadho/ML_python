{
 "cells": [
  {
   "cell_type": "markdown",
   "metadata": {},
   "source": [
    "# 개별 코드 "
   ]
  },
  {
   "cell_type": "code",
   "execution_count": 7,
   "metadata": {},
   "outputs": [],
   "source": [
    "# 랜덤 시드 설정\n",
    "import numpy as np\n",
    "import tensorflow as tf\n",
    "np.random.seed(0)\n",
    "tf.random.set_seed(0)"
   ]
  },
  {
   "cell_type": "code",
   "execution_count": 8,
   "metadata": {},
   "outputs": [],
   "source": [
    "# 데이터 불러오기\n",
    "from sklearn import datasets\n",
    "raw_boston = datasets.load_boston()"
   ]
  },
  {
   "cell_type": "code",
   "execution_count": 9,
   "metadata": {},
   "outputs": [],
   "source": [
    "# 피쳐, 타겟 데이터 지정\n",
    "X = raw_boston.data\n",
    "y = raw_boston.target"
   ]
  },
  {
   "cell_type": "code",
   "execution_count": 10,
   "metadata": {},
   "outputs": [
    {
     "name": "stdout",
     "output_type": "stream",
     "text": [
      "(506, 13)\n"
     ]
    }
   ],
   "source": [
    "# 피쳐 데이터 차원 확인\n",
    "print(X.shape)"
   ]
  },
  {
   "cell_type": "code",
   "execution_count": 11,
   "metadata": {},
   "outputs": [
    {
     "name": "stdout",
     "output_type": "stream",
     "text": [
      "{5.0, 6.3, 7.2, 8.8, 7.4, 10.2, 11.8, 12.7, 13.6, 14.5, 15.0, 16.5, 17.5, 18.9, 18.2, 20.4, 21.6, 22.9, 21.7, 24.0, 19.9, 26.6, 26.5, 27.5, 23.1, 27.1, 28.7, 24.7, 30.8, 33.4, 34.7, 34.9, 36.2, 35.4, 31.6, 33.0, 38.7, 33.2, 43.8, 41.3, 37.2, 39.8, 42.3, 48.5, 44.8, 50.0, 46.7, 48.3, 44.0, 48.8, 46.0, 10.5, 11.5, 11.0, 12.5, 12.0, 13.5, 13.0, 14.0, 16.6, 16.0, 16.1, 16.4, 17.4, 17.1, 17.0, 17.6, 17.9, 18.4, 18.6, 18.5, 18.0, 18.1, 19.6, 19.4, 19.5, 19.1, 19.0, 20.0, 20.5, 20.9, 20.6, 20.1, 21.0, 21.4, 21.5, 21.9, 21.1, 22.0, 22.5, 22.6, 22.4, 22.1, 23.4, 23.5, 23.9, 23.6, 23.0, 24.1, 24.6, 24.4, 24.5, 25.0, 25.1, 26.4, 27.0, 27.9, 28.0, 28.4, 28.1, 28.5, 28.6, 29.4, 29.9, 29.6, 29.1, 29.0, 30.5, 30.1, 31.1, 31.5, 31.0, 32.5, 32.0, 32.9, 32.4, 32.2, 33.3, 33.8, 33.1, 32.7, 8.4, 34.6, 35.2, 35.1, 10.4, 10.9, 7.0, 36.4, 36.0, 36.5, 36.1, 11.9, 37.9, 37.0, 37.6, 37.3, 13.9, 13.4, 14.4, 14.9, 15.4, 8.5, 41.7, 42.8, 43.1, 43.5, 45.4, 9.5, 8.3, 8.7, 9.7, 10.8, 11.3, 11.7, 12.3, 12.8, 13.2, 13.3, 13.8, 14.8, 14.3, 14.2, 15.2, 15.7, 15.3, 16.2, 16.8, 16.3, 16.7, 17.3, 17.8, 17.2, 17.7, 18.7, 18.8, 18.3, 19.3, 19.7, 19.8, 19.2, 20.2, 20.8, 20.3, 20.7, 21.2, 21.8, 22.2, 22.8, 22.7, 22.3, 23.3, 23.8, 23.2, 23.7, 24.8, 24.2, 24.3, 25.3, 25.2, 26.7, 26.2, 7.5, 28.2, 29.8, 30.3, 30.7, 5.6, 31.7, 31.2, 8.1, 9.6, 12.1, 12.6, 13.1, 14.6, 14.1, 15.6, 15.1}\n"
     ]
    }
   ],
   "source": [
    "# 타겟 데이터 종류 확인\n",
    "print(set(y))"
   ]
  },
  {
   "cell_type": "code",
   "execution_count": 12,
   "metadata": {},
   "outputs": [],
   "source": [
    "# 트레이닝/테스트 데이터 분할\n",
    "from sklearn.model_selection import train_test_split\n",
    "X_tn, X_te, y_tn, y_te=train_test_split(X, y, random_state=0)"
   ]
  },
  {
   "cell_type": "code",
   "execution_count": 14,
   "metadata": {},
   "outputs": [],
   "source": [
    "# 신경망 생성\n",
    "from tensorflow.keras.models import Sequential\n",
    "from tensorflow.keras.layers import Dense\n",
    "\n",
    "n_feat = X_tn.shape[1]\n",
    "epo = 30\n",
    "\n",
    "model = Sequential()\n",
    "model.add(Dense(20, input_dim=n_feat, activation='relu'))\n",
    "model.add(Dense(1))"
   ]
  },
  {
   "cell_type": "code",
   "execution_count": 15,
   "metadata": {},
   "outputs": [],
   "source": [
    "# 모형 컴파일\n",
    "model.compile(loss='mean_squared_error', \n",
    "              optimizer='adam', \n",
    "              metrics=['mean_squared_error'])"
   ]
  },
  {
   "cell_type": "code",
   "execution_count": 16,
   "metadata": {},
   "outputs": [
    {
     "name": "stdout",
     "output_type": "stream",
     "text": [
      "Train on 379 samples\n",
      "Epoch 1/30\n",
      "379/379 [==============================] - 0s 1ms/sample - loss: 479.8058 - mean_squared_error: 479.8058\n",
      "Epoch 2/30\n",
      "379/379 [==============================] - 0s 228us/sample - loss: 96.0528 - mean_squared_error: 96.0527\n",
      "Epoch 3/30\n",
      "379/379 [==============================] - 0s 251us/sample - loss: 86.8360 - mean_squared_error: 86.8360\n",
      "Epoch 4/30\n",
      "379/379 [==============================] - 0s 253us/sample - loss: 67.8890 - mean_squared_error: 67.8890\n",
      "Epoch 5/30\n",
      "379/379 [==============================] - 0s 211us/sample - loss: 59.9239 - mean_squared_error: 59.9239\n",
      "Epoch 6/30\n",
      "379/379 [==============================] - 0s 231us/sample - loss: 54.8727 - mean_squared_error: 54.8727\n",
      "Epoch 7/30\n",
      "379/379 [==============================] - 0s 224us/sample - loss: 50.7333 - mean_squared_error: 50.7333\n",
      "Epoch 8/30\n",
      "379/379 [==============================] - 0s 224us/sample - loss: 46.8916 - mean_squared_error: 46.8916\n",
      "Epoch 9/30\n",
      "379/379 [==============================] - 0s 200us/sample - loss: 47.9132 - mean_squared_error: 47.9132\n",
      "Epoch 10/30\n",
      "379/379 [==============================] - 0s 199us/sample - loss: 42.5450 - mean_squared_error: 42.5450\n",
      "Epoch 11/30\n",
      "379/379 [==============================] - 0s 205us/sample - loss: 46.0313 - mean_squared_error: 46.0313\n",
      "Epoch 12/30\n",
      "379/379 [==============================] - 0s 214us/sample - loss: 38.9554 - mean_squared_error: 38.9554\n",
      "Epoch 13/30\n",
      "379/379 [==============================] - 0s 219us/sample - loss: 36.9249 - mean_squared_error: 36.9249\n",
      "Epoch 14/30\n",
      "379/379 [==============================] - 0s 228us/sample - loss: 35.1518 - mean_squared_error: 35.1518\n",
      "Epoch 15/30\n",
      "379/379 [==============================] - 0s 235us/sample - loss: 35.9116 - mean_squared_error: 35.9116\n",
      "Epoch 16/30\n",
      "379/379 [==============================] - 0s 260us/sample - loss: 34.0524 - mean_squared_error: 34.0524\n",
      "Epoch 17/30\n",
      "379/379 [==============================] - 0s 272us/sample - loss: 37.5056 - mean_squared_error: 37.5056\n",
      "Epoch 18/30\n",
      "379/379 [==============================] - 0s 264us/sample - loss: 34.2320 - mean_squared_error: 34.2320\n",
      "Epoch 19/30\n",
      "379/379 [==============================] - 0s 273us/sample - loss: 35.7681 - mean_squared_error: 35.7681\n",
      "Epoch 20/30\n",
      "379/379 [==============================] - 0s 241us/sample - loss: 33.8966 - mean_squared_error: 33.8966\n",
      "Epoch 21/30\n",
      "379/379 [==============================] - 0s 209us/sample - loss: 36.5300 - mean_squared_error: 36.5300\n",
      "Epoch 22/30\n",
      "379/379 [==============================] - 0s 207us/sample - loss: 35.1291 - mean_squared_error: 35.1291\n",
      "Epoch 23/30\n",
      "379/379 [==============================] - 0s 237us/sample - loss: 35.6674 - mean_squared_error: 35.6674\n",
      "Epoch 24/30\n",
      "379/379 [==============================] - 0s 322us/sample - loss: 33.1912 - mean_squared_error: 33.1912\n",
      "Epoch 25/30\n",
      "379/379 [==============================] - 0s 316us/sample - loss: 35.4643 - mean_squared_error: 35.4643\n",
      "Epoch 26/30\n",
      "379/379 [==============================] - 0s 290us/sample - loss: 33.6818 - mean_squared_error: 33.6818\n",
      "Epoch 27/30\n",
      "379/379 [==============================] - 0s 267us/sample - loss: 31.9191 - mean_squared_error: 31.9191\n",
      "Epoch 28/30\n",
      "379/379 [==============================] - 0s 265us/sample - loss: 33.4358 - mean_squared_error: 33.4358\n",
      "Epoch 29/30\n",
      "379/379 [==============================] - 0s 274us/sample - loss: 32.6290 - mean_squared_error: 32.6290\n",
      "Epoch 30/30\n",
      "379/379 [==============================] - 0s 246us/sample - loss: 33.5811 - mean_squared_error: 33.5811\n"
     ]
    }
   ],
   "source": [
    "# 신경망 학습\n",
    "hist = model.fit(X_tn, y_tn, epochs=epo, batch_size=5)"
   ]
  },
  {
   "cell_type": "code",
   "execution_count": 17,
   "metadata": {},
   "outputs": [
    {
     "name": "stdout",
     "output_type": "stream",
     "text": [
      "\r",
      "379/1 [==========================================================================================================================================================================================================================================================================================================================================================================================================================================================================================================================================================================================================================================================================================================================================================================================================================================================================================================================================================================================================================================================================================================================================================================================================================================================================================================================================================================================================================================================================================================================================================================================================================================================================================================================================================================================================================================================================================================================================================================================================================================================================================================================================================================================================================================================================================================================================================================================================================================================================================================================================================================================================================================================================================================================================================================================================================================================================================================================================================================================================================================================================================================================================================================================================================================================================================================================================================================================================================================================================================================================================================================================================================================================================================================================================================================================================================================================================================================================================================================================================================================================================================================================================================================================================================================================================================================================================================================================================================================================================================================================================================================================================================================================================================================================================================================================================================================================================================================================================================================================================================================================================================================================================================================================================================================================================================================================================================================================================================================================================================================================================================================================================================================================================================================================================================================================================================================================================================================================================================================================================================================================================================================================================================================================================================================================================================================================================================================================================================================================================================================================================================================================================================================================================================================================================================================================================================================================================================================================================================================================================================================================================================================================================================================================================================================================================================================================================================================================================================================================================================================================================================================================================================================================================================================================================================================================================================================================================================================================================================================================================================================================================================================================================================================================================================================================================================================================================================================================================================================================================================================================================================================================================================================================================================================================================================================================================================================================================================================================================================================================================================================================================================================================================================================================================================================================================================================================================================================================================================================================================================================================================================================================================================================================================================================================================================================================================================================================================================================================================================================================================================================================================================================================================================================================================================================================================================================================================================================================================================================================================================================================================================================================================================================================================================================================================================================================================================================================================================================================================================================================================================================================================================================================================================================================================================================================================================================================================================================================================================================================================================================================================================================================================================================================================================================================================================================================================================================] - 0s 181us/sample - loss: 27.0572 - mean_squared_error: 31.3568\n"
     ]
    },
    {
     "name": "stdout",
     "output_type": "stream",
     "text": [
      "31.356752\n"
     ]
    }
   ],
   "source": [
    "# 트레이닝 데이터 평가\n",
    "print(model.evaluate(X_tn, y_tn)[1])"
   ]
  },
  {
   "cell_type": "code",
   "execution_count": 18,
   "metadata": {},
   "outputs": [
    {
     "name": "stdout",
     "output_type": "stream",
     "text": [
      "127/1 [==================================================================================================================================================================================================================================================================================================================================================================================================================================================================================================================================================================================================================================================================================================================================================================================================================================================================================================================================================================================================================================================================================================================================================================================================================================================================================================================================================================================================================================================================================================================================================================================================================================================================================================================================================================================================================================================================================================================================================================================================================================================================================================================================================================================================================================================================================================================================================================================================================================================================================================================================================================================================================================================================================================================================================================================================================================================================================================================================================================================================================================================================================================================================================================================================================================================================================================================================================================================================================================================================================================================================================================================================================================================================================================================================================================================================================================================================================================================================================================] - 0s 61us/sample - loss: 39.3467 - mean_squared_error: 46.8209\n",
      "46.820923\n"
     ]
    }
   ],
   "source": [
    "# 테스트 데이터 평가\n",
    "print(model.evaluate(X_te, y_te)[1])"
   ]
  },
  {
   "cell_type": "code",
   "execution_count": 19,
   "metadata": {},
   "outputs": [
    {
     "name": "stdout",
     "output_type": "stream",
     "text": [
      "[ 1  2  3  4  5  6  7  8  9 10 11 12 13 14 15 16 17 18 19 20 21 22 23 24\n",
      " 25 26 27 28 29 30]\n"
     ]
    }
   ],
   "source": [
    "import numpy as np\n",
    "epoch = np.arange(1,epo+1)\n",
    "print(epoch)"
   ]
  },
  {
   "cell_type": "code",
   "execution_count": 20,
   "metadata": {},
   "outputs": [
    {
     "name": "stdout",
     "output_type": "stream",
     "text": [
      "[479.80582, 96.05275, 86.83599, 67.88903, 59.92392, 54.872726, 50.733334, 46.891605, 47.91315, 42.544987, 46.03134, 38.955406, 36.924923, 35.15177, 35.911556, 34.05242, 37.505554, 34.232033, 35.76808, 33.896606, 36.52996, 35.129063, 35.66745, 33.191166, 35.46431, 33.68179, 31.919054, 33.435787, 32.629005, 33.58113]\n"
     ]
    }
   ],
   "source": [
    "mse = hist.history['mean_squared_error'] \n",
    "print(mse)"
   ]
  },
  {
   "cell_type": "code",
   "execution_count": 21,
   "metadata": {},
   "outputs": [
    {
     "name": "stdout",
     "output_type": "stream",
     "text": [
      "[479.8057891724921, 96.05276863430295, 86.83599813003339, 67.8890343816425, 59.9239087205449, 54.87273698117299, 50.733341237171345, 46.89160451599665, 47.91315160137368, 42.54497977784567, 46.031340047363244, 38.95540370224019, 36.92492445037359, 35.15176932100885, 35.911559134485856, 34.052418857262445, 37.50555559135679, 34.2320348411248, 35.76807752888561, 33.89661338335606, 36.52996005860985, 35.12906224746503, 35.66744688444213, 33.19116699475412, 35.46430729435742, 33.68178953816205, 31.919055327261972, 33.43578224642925, 32.62900313978774, 33.58113577183444]\n"
     ]
    }
   ],
   "source": [
    "loss = hist.history['loss'] \n",
    "print(loss)"
   ]
  },
  {
   "cell_type": "code",
   "execution_count": 22,
   "metadata": {},
   "outputs": [
    {
     "data": {
      "image/png": "[encoded data removed]",
      "text/plain": [
       "<Figure size 432x288 with 1 Axes>"
      ]
     },
     "metadata": {
      "needs_background": "light"
     },
     "output_type": "display_data"
    }
   ],
   "source": [
    "# MSE 학습 그래프\n",
    "import matplotlib.pyplot as plt\n",
    "plt.plot(epoch, mse, label='mse')\n",
    "plt.xlabel('epoch')\n",
    "plt.ylabel('mean_squred_error')\n",
    "plt.legend()\n",
    "plt.show()"
   ]
  },
  {
   "cell_type": "code",
   "execution_count": 23,
   "metadata": {},
   "outputs": [
    {
     "data": {
      "image/png": "[encoded data removed]",
      "text/plain": [
       "<Figure size 432x288 with 1 Axes>"
      ]
     },
     "metadata": {
      "needs_background": "light"
     },
     "output_type": "display_data"
    }
   ],
   "source": [
    "# 손실 학습 그래프\n",
    "import matplotlib.pyplot as plt\n",
    "plt.plot(epoch, loss, 'r', label='loss')\n",
    "plt.xlabel('epoch')\n",
    "plt.ylabel('loss')\n",
    "plt.legend()\n",
    "plt.show()"
   ]
  },
  {
   "cell_type": "code",
   "execution_count": 24,
   "metadata": {},
   "outputs": [
    {
     "name": "stdout",
     "output_type": "stream",
     "text": [
      "[18.382832  21.890337  29.210135  12.314684  18.406872  23.431126\n",
      " 15.859535  24.914831  16.141886   9.294696   6.7170815 11.368488\n",
      " 14.627799   6.7244773 36.676723  27.281343  17.97384   34.2865\n",
      " 27.691458  24.287592  25.912405  20.210974  19.433868  30.029924\n",
      " 23.936972  13.367836  20.504663  13.566305  31.31195   18.665377\n",
      " 14.9331455 17.152182  21.314695  23.944914  27.90721   17.056541\n",
      "  8.352982  21.03223    8.759733  10.108026  25.138039  21.402199\n",
      " 16.385046  13.820709  20.497738  26.67551   19.269619  17.562687\n",
      " 11.200668  23.877743   9.191819  14.153724  22.068832  26.003172\n",
      " 10.400229  18.73908   21.041758  13.189089  16.599367  21.043016\n",
      " 20.823235  21.807455  28.818836  27.226244  13.31085   28.460651\n",
      " 15.756354  17.360281  11.365095  23.319921  19.143528  20.96789\n",
      " 31.664627  28.25146   21.217918   2.9079304 30.178116  23.352217\n",
      " 25.98124   19.857761  26.331224  20.775368  18.789385  31.618542\n",
      " 31.320967  24.926342  23.204046   6.5281205 27.674667  13.214585\n",
      " 14.547601   6.7673397 28.346586  30.05326   27.620888  21.269278\n",
      "  1.1215584 29.739353   9.850464  21.47418   23.0007    22.45006\n",
      " 28.501425  19.95277   24.293606  23.644703   1.3887396 15.924337\n",
      " 26.53592   24.522465  29.791735   8.891999  19.250126  13.172591\n",
      "  8.487875  20.094088  -2.0275447 22.528921   9.651933  44.60629\n",
      " 27.97048   11.781659  18.671608  21.055185  25.749624  20.292889\n",
      " 33.70656  ]\n"
     ]
    }
   ],
   "source": [
    "# 실제값, 예측값 데이터 프레임 생성\n",
    "pred_y = model.predict(X_te).flatten() \n",
    "print(pred_y)"
   ]
  },
  {
   "cell_type": "code",
   "execution_count": 26,
   "metadata": {},
   "outputs": [],
   "source": [
    "import pandas as pd\n",
    "res_df = pd.DataFrame(pred_y, columns=['predict_val'])\n",
    "res_df['real_val'] = y_te"
   ]
  },
  {
   "cell_type": "code",
   "execution_count": 27,
   "metadata": {
    "scrolled": true
   },
   "outputs": [
    {
     "data": {
      "text/html": [
       "<div>\n",
       "<style scoped>\n",
       "    .dataframe tbody tr th:only-of-type {\n",
       "        vertical-align: middle;\n",
       "    }\n",
       "\n",
       "    .dataframe tbody tr th {\n",
       "        vertical-align: top;\n",
       "    }\n",
       "\n",
       "    .dataframe thead th {\n",
       "        text-align: right;\n",
       "    }\n",
       "</style>\n",
       "<table border=\"1\" class=\"dataframe\">\n",
       "  <thead>\n",
       "    <tr style=\"text-align: right;\">\n",
       "      <th></th>\n",
       "      <th>predict_val</th>\n",
       "      <th>real_val</th>\n",
       "    </tr>\n",
       "  </thead>\n",
       "  <tbody>\n",
       "    <tr>\n",
       "      <th>0</th>\n",
       "      <td>18.382832</td>\n",
       "      <td>22.6</td>\n",
       "    </tr>\n",
       "    <tr>\n",
       "      <th>1</th>\n",
       "      <td>21.890337</td>\n",
       "      <td>50.0</td>\n",
       "    </tr>\n",
       "    <tr>\n",
       "      <th>2</th>\n",
       "      <td>29.210135</td>\n",
       "      <td>23.0</td>\n",
       "    </tr>\n",
       "  </tbody>\n",
       "</table>\n",
       "</div>"
      ],
      "text/plain": [
       "   predict_val  real_val\n",
       "0    18.382832      22.6\n",
       "1    21.890337      50.0\n",
       "2    29.210135      23.0"
      ]
     },
     "execution_count": 27,
     "metadata": {},
     "output_type": "execute_result"
    }
   ],
   "source": [
    "res_df.head(3)"
   ]
  },
  {
   "cell_type": "code",
   "execution_count": 28,
   "metadata": {},
   "outputs": [],
   "source": [
    "df_sort = res_df.sort_values([\"predict_val\"], \n",
    "                             ascending=True)"
   ]
  },
  {
   "cell_type": "code",
   "execution_count": 29,
   "metadata": {
    "scrolled": true
   },
   "outputs": [
    {
     "data": {
      "text/html": [
       "<div>\n",
       "<style scoped>\n",
       "    .dataframe tbody tr th:only-of-type {\n",
       "        vertical-align: middle;\n",
       "    }\n",
       "\n",
       "    .dataframe tbody tr th {\n",
       "        vertical-align: top;\n",
       "    }\n",
       "\n",
       "    .dataframe thead th {\n",
       "        text-align: right;\n",
       "    }\n",
       "</style>\n",
       "<table border=\"1\" class=\"dataframe\">\n",
       "  <thead>\n",
       "    <tr style=\"text-align: right;\">\n",
       "      <th></th>\n",
       "      <th>predict_val</th>\n",
       "      <th>real_val</th>\n",
       "    </tr>\n",
       "  </thead>\n",
       "  <tbody>\n",
       "    <tr>\n",
       "      <th>116</th>\n",
       "      <td>-2.027545</td>\n",
       "      <td>8.4</td>\n",
       "    </tr>\n",
       "    <tr>\n",
       "      <th>96</th>\n",
       "      <td>1.121558</td>\n",
       "      <td>13.8</td>\n",
       "    </tr>\n",
       "    <tr>\n",
       "      <th>106</th>\n",
       "      <td>1.388740</td>\n",
       "      <td>10.4</td>\n",
       "    </tr>\n",
       "  </tbody>\n",
       "</table>\n",
       "</div>"
      ],
      "text/plain": [
       "     predict_val  real_val\n",
       "116    -2.027545       8.4\n",
       "96      1.121558      13.8\n",
       "106     1.388740      10.4"
      ]
     },
     "execution_count": 29,
     "metadata": {},
     "output_type": "execute_result"
    }
   ],
   "source": [
    "df_sort.head(3)"
   ]
  },
  {
   "cell_type": "code",
   "execution_count": 30,
   "metadata": {},
   "outputs": [
    {
     "data": {
      "text/plain": [
       "127"
      ]
     },
     "execution_count": 30,
     "metadata": {},
     "output_type": "execute_result"
    }
   ],
   "source": [
    "len(df_sort)"
   ]
  },
  {
   "cell_type": "code",
   "execution_count": 31,
   "metadata": {},
   "outputs": [
    {
     "data": {
      "image/png": "[encoded data removed]",
      "text/plain": [
       "<Figure size 432x288 with 1 Axes>"
      ]
     },
     "metadata": {
      "needs_background": "light"
     },
     "output_type": "display_data"
    }
   ],
   "source": [
    "# 예측값 실제값 그래프\n",
    "import matplotlib.pyplot as plt\n",
    "import numpy as np\n",
    "idx = np.arange(1,len(df_sort)+1)\n",
    "plt.scatter(idx, df_sort['real_val'], \n",
    "            marker='o', \n",
    "            label='real_val')\n",
    "plt.plot(idx, df_sort['predict_val'], \n",
    "         color='r', \n",
    "         label='predict_val')\n",
    "plt.xlabel('index')\n",
    "plt.ylabel('value')\n",
    "plt.legend()\n",
    "plt.show()"
   ]
  },
  {
   "cell_type": "markdown",
   "metadata": {},
   "source": [
    "# 통합 코드"
   ]
  },
  {
   "cell_type": "code",
   "execution_count": 34,
   "metadata": {},
   "outputs": [
    {
     "name": "stdout",
     "output_type": "stream",
     "text": [
      "(506, 13)\n",
      "{5.0, 6.3, 7.2, 8.8, 7.4, 10.2, 11.8, 12.7, 13.6, 14.5, 15.0, 16.5, 17.5, 18.9, 18.2, 20.4, 21.6, 22.9, 21.7, 24.0, 19.9, 26.6, 26.5, 27.5, 23.1, 27.1, 28.7, 24.7, 30.8, 33.4, 34.7, 34.9, 36.2, 35.4, 31.6, 33.0, 38.7, 33.2, 43.8, 41.3, 37.2, 39.8, 42.3, 48.5, 44.8, 50.0, 46.7, 48.3, 44.0, 48.8, 46.0, 10.5, 11.5, 11.0, 12.5, 12.0, 13.5, 13.0, 14.0, 16.6, 16.0, 16.1, 16.4, 17.4, 17.1, 17.0, 17.6, 17.9, 18.4, 18.6, 18.5, 18.0, 18.1, 19.6, 19.4, 19.5, 19.1, 19.0, 20.0, 20.5, 20.9, 20.6, 20.1, 21.0, 21.4, 21.5, 21.9, 21.1, 22.0, 22.5, 22.6, 22.4, 22.1, 23.4, 23.5, 23.9, 23.6, 23.0, 24.1, 24.6, 24.4, 24.5, 25.0, 25.1, 26.4, 27.0, 27.9, 28.0, 28.4, 28.1, 28.5, 28.6, 29.4, 29.9, 29.6, 29.1, 29.0, 30.5, 30.1, 31.1, 31.5, 31.0, 32.5, 32.0, 32.9, 32.4, 32.2, 33.3, 33.8, 33.1, 32.7, 8.4, 34.6, 35.2, 35.1, 10.4, 10.9, 7.0, 36.4, 36.0, 36.5, 36.1, 11.9, 37.9, 37.0, 37.6, 37.3, 13.9, 13.4, 14.4, 14.9, 15.4, 8.5, 41.7, 42.8, 43.1, 43.5, 45.4, 9.5, 8.3, 8.7, 9.7, 10.8, 11.3, 11.7, 12.3, 12.8, 13.2, 13.3, 13.8, 14.8, 14.3, 14.2, 15.2, 15.7, 15.3, 16.2, 16.8, 16.3, 16.7, 17.3, 17.8, 17.2, 17.7, 18.7, 18.8, 18.3, 19.3, 19.7, 19.8, 19.2, 20.2, 20.8, 20.3, 20.7, 21.2, 21.8, 22.2, 22.8, 22.7, 22.3, 23.3, 23.8, 23.2, 23.7, 24.8, 24.2, 24.3, 25.3, 25.2, 26.7, 26.2, 7.5, 28.2, 29.8, 30.3, 30.7, 5.6, 31.7, 31.2, 8.1, 9.6, 12.1, 12.6, 13.1, 14.6, 14.1, 15.6, 15.1}\n",
      "Train on 379 samples\n",
      "Epoch 1/30\n",
      "379/379 [==============================] - 0s 923us/sample - loss: 479.8058 - mean_squared_error: 479.8058\n",
      "Epoch 2/30\n",
      "379/379 [==============================] - 0s 253us/sample - loss: 96.0528 - mean_squared_error: 96.0527\n",
      "Epoch 3/30\n",
      "379/379 [==============================] - 0s 235us/sample - loss: 86.8360 - mean_squared_error: 86.8360\n",
      "Epoch 4/30\n",
      "379/379 [==============================] - 0s 216us/sample - loss: 67.8890 - mean_squared_error: 67.8890\n",
      "Epoch 5/30\n",
      "379/379 [==============================] - 0s 222us/sample - loss: 59.9239 - mean_squared_error: 59.9239\n",
      "Epoch 6/30\n",
      "379/379 [==============================] - 0s 223us/sample - loss: 54.8727 - mean_squared_error: 54.8727\n",
      "Epoch 7/30\n",
      "379/379 [==============================] - 0s 224us/sample - loss: 50.7333 - mean_squared_error: 50.7333\n",
      "Epoch 8/30\n",
      "379/379 [==============================] - 0s 206us/sample - loss: 46.8916 - mean_squared_error: 46.8916\n",
      "Epoch 9/30\n",
      "379/379 [==============================] - 0s 207us/sample - loss: 47.9132 - mean_squared_error: 47.9132\n",
      "Epoch 10/30\n",
      "379/379 [==============================] - 0s 256us/sample - loss: 42.5450 - mean_squared_error: 42.5450\n",
      "Epoch 11/30\n",
      "379/379 [==============================] - 0s 248us/sample - loss: 46.0313 - mean_squared_error: 46.0313\n",
      "Epoch 12/30\n",
      "379/379 [==============================] - 0s 255us/sample - loss: 38.9554 - mean_squared_error: 38.9554\n",
      "Epoch 13/30\n",
      "379/379 [==============================] - 0s 259us/sample - loss: 36.9249 - mean_squared_error: 36.9249\n",
      "Epoch 14/30\n",
      "379/379 [==============================] - 0s 296us/sample - loss: 35.1518 - mean_squared_error: 35.1518\n",
      "Epoch 15/30\n",
      "379/379 [==============================] - 0s 291us/sample - loss: 35.9116 - mean_squared_error: 35.9116\n",
      "Epoch 16/30\n",
      "379/379 [==============================] - 0s 256us/sample - loss: 34.0524 - mean_squared_error: 34.0524\n",
      "Epoch 17/30\n",
      "379/379 [==============================] - 0s 247us/sample - loss: 37.5056 - mean_squared_error: 37.5056\n",
      "Epoch 18/30\n",
      "379/379 [==============================] - 0s 247us/sample - loss: 34.2320 - mean_squared_error: 34.2320\n",
      "Epoch 19/30\n",
      "379/379 [==============================] - 0s 271us/sample - loss: 35.7681 - mean_squared_error: 35.7681\n",
      "Epoch 20/30\n",
      "379/379 [==============================] - 0s 242us/sample - loss: 33.8966 - mean_squared_error: 33.8966\n",
      "Epoch 21/30\n",
      "379/379 [==============================] - 0s 232us/sample - loss: 36.5300 - mean_squared_error: 36.5300\n",
      "Epoch 22/30\n",
      "379/379 [==============================] - 0s 234us/sample - loss: 35.1291 - mean_squared_error: 35.1291\n",
      "Epoch 23/30\n",
      "379/379 [==============================] - 0s 256us/sample - loss: 35.6674 - mean_squared_error: 35.6674\n",
      "Epoch 24/30\n",
      "379/379 [==============================] - 0s 248us/sample - loss: 33.1912 - mean_squared_error: 33.1912\n",
      "Epoch 25/30\n",
      "379/379 [==============================] - 0s 258us/sample - loss: 35.4643 - mean_squared_error: 35.4643\n",
      "Epoch 26/30\n",
      "379/379 [==============================] - 0s 228us/sample - loss: 33.6818 - mean_squared_error: 33.6818\n",
      "Epoch 27/30\n",
      "379/379 [==============================] - 0s 250us/sample - loss: 31.9191 - mean_squared_error: 31.9191\n",
      "Epoch 28/30\n",
      "379/379 [==============================] - 0s 252us/sample - loss: 33.4358 - mean_squared_error: 33.4358\n",
      "Epoch 29/30\n",
      "379/379 [==============================] - 0s 232us/sample - loss: 32.6290 - mean_squared_error: 32.6290\n",
      "Epoch 30/30\n",
      "379/379 [==============================] - 0s 208us/sample - loss: 33.5811 - mean_squared_error: 33.5811\n",
      "379/1 [==========================================================================================================================================================================================================================================================================================================================================================================================================================================================================================================================================================================================================================================================================================================================================================================================================================================================================================================================================================================================================================================================================================================================================================================================================================================================================================================================================================================================================================================================================================================================================================================================================================================================================================================================================================================================================================================================================================================================================================================================================================================================================================================================================================================================================================================================================================================================================================================================================================================================================================================================================================================================================================================================================================================================================================================================================================================================================================================================================================================================================================================================================================================================================================================================================================================================================================================================================================================================================================================================================================================================================================================================================================================================================================================================================================================================================================================================================================================================================================================================================================================================================================================================================================================================================================================================================================================================================================================================================================================================================================================================================================================================================================================================================================================================================================================================================================================================================================================================================================================================================================================================================================================================================================================================================================================================================================================================================================================================================================================================================================================================================================================================================================================================================================================================================================================================================================================================================================================================================================================================================================================================================================================================================================================================================================================================================================================================================================================================================================================================================================================================================================================================================================================================================================================================================================================================================================================================================================================================================================================================================================================================================================================================================================================================================================================================================================================================================================================================================================================================================================================================================================================================================================================================================================================================================================================================================================================================================================================================================================================================================================================================================================================================================================================================================================================================================================================================================================================================================================================================================================================================================================================================================================================================================================================================================================================================================================================================================================================================================================================================================================================================================================================================================================================================================================================================================================================================================================================================================================================================================================================================================================================================================================================================================================================================================================================================================================================================================================================================================================================================================================================================================================================================================================================================================================================================================================================================================================================================================================================================================================================================================================================================================================================================================================================================================================================================================================================================================================================================================================================================================================================================================================================================================================================================================================================================================================================================================================================================================================================================================================================================================================================================================================================================================================================================================================================================================================================] - 0s 175us/sample - loss: 27.0572 - mean_squared_error: 31.3568\n"
     ]
    },
    {
     "name": "stdout",
     "output_type": "stream",
     "text": [
      "31.356752\n",
      "127/1 [==================================================================================================================================================================================================================================================================================================================================================================================================================================================================================================================================================================================================================================================================================================================================================================================================================================================================================================================================================================================================================================================================================================================================================================================================================================================================================================================================================================================================================================================================================================================================================================================================================================================================================================================================================================================================================================================================================================================================================================================================================================================================================================================================================================================================================================================================================================================================================================================================================================================================================================================================================================================================================================================================================================================================================================================================================================================================================================================================================================================================================================================================================================================================================================================================================================================================================================================================================================================================================================================================================================================================================================================================================================================================================================================================================================================================================================================================================================================================================================] - 0s 46us/sample - loss: 39.3467 - mean_squared_error: 46.8209\n",
      "46.820923\n"
     ]
    },
    {
     "data": {
      "image/png": "[encoded data removed]",
      "text/plain": [
       "<Figure size 432x288 with 1 Axes>"
      ]
     },
     "metadata": {
      "needs_background": "light"
     },
     "output_type": "display_data"
    },
    {
     "data": {
      "image/png": "[encoded data removed]",
      "text/plain": [
       "<Figure size 432x288 with 1 Axes>"
      ]
     },
     "metadata": {
      "needs_background": "light"
     },
     "output_type": "display_data"
    },
    {
     "data": {
      "image/png": "[encoded data removed]",
      "text/plain": [
       "<Figure size 432x288 with 1 Axes>"
      ]
     },
     "metadata": {
      "needs_background": "light"
     },
     "output_type": "display_data"
    }
   ],
   "source": [
    "from sklearn import datasets\n",
    "from sklearn.model_selection import train_test_split\n",
    "\n",
    "import numpy as np\n",
    "import tensorflow as tf\n",
    "\n",
    "from tensorflow.keras.models import Sequential\n",
    "from tensorflow.keras.layers import Dense\n",
    "\n",
    "import matplotlib.pyplot as plt\n",
    "import pandas as pd\n",
    "\n",
    "# 랜덤 시드 설정\n",
    "np.random.seed(0)\n",
    "tf.random.set_seed(0)\n",
    "\n",
    "# 데이터 불러오기\n",
    "raw_boston = datasets.load_boston()\n",
    "\n",
    "# 피쳐, 타겟 데이터 지정\n",
    "X = raw_boston.data\n",
    "y = raw_boston.target\n",
    "\n",
    "# 피쳐 데이터 차원 확인\n",
    "print(X.shape)\n",
    "\n",
    "# 타겟 데이터 종류 확인\n",
    "print(set(y))\n",
    "\n",
    "# 트레이닝/테스트 데이터 분할\n",
    "X_tn, X_te, y_tn, y_te=train_test_split(X, y, random_state=0)\n",
    "\n",
    "# 신경망 생성\n",
    "n_feat = X_tn.shape[1]\n",
    "epo = 30\n",
    "\n",
    "model = Sequential()\n",
    "model.add(Dense(20, input_dim=n_feat, activation='relu'))\n",
    "model.add(Dense(1))\n",
    "\n",
    "# 모형 컴파일\n",
    "model.compile(loss='mean_squared_error', \n",
    "              optimizer='adam', \n",
    "              metrics=['mean_squared_error'])\n",
    "\n",
    "# 신경망 학습\n",
    "hist = model.fit(X_tn, y_tn, epochs=epo, batch_size=5)\n",
    "\n",
    "# 트레이닝 데이터 평가\n",
    "print(model.evaluate(X_tn, y_tn)[1])\n",
    "\n",
    "# 테스트 데이터 평가\n",
    "print(model.evaluate(X_te, y_te)[1])\n",
    "\n",
    "epoch = np.arange(1,epo+1)\n",
    "mse = hist.history['mean_squared_error'] \n",
    "loss = hist.history['loss'] \n",
    "\n",
    "# MSE 학습 그래프\n",
    "plt.plot(epoch, mse, label='mse')\n",
    "plt.xlabel('epoch')\n",
    "plt.ylabel('mean_squred_error')\n",
    "plt.legend()\n",
    "plt.show()\n",
    "\n",
    "# 손실 학습 그래프\n",
    "plt.plot(epoch, loss, 'r', label='loss')\n",
    "plt.xlabel('epoch')\n",
    "plt.ylabel('loss')\n",
    "plt.legend()\n",
    "plt.show()\n",
    "\n",
    "# 실제값, 예측값 데이터 프레임 생성\n",
    "pred_y = model.predict(X_te).flatten() \n",
    "res_df = pd.DataFrame(pred_y, columns=['predict_val'])\n",
    "res_df['real_val'] = y_te\n",
    "df_sort = res_df.sort_values([\"predict_val\"], \n",
    "                             ascending=True)\n",
    "\n",
    "# 예측값 실제값 그래프\n",
    "idx = np.arange(1,len(df_sort)+1)\n",
    "plt.scatter(idx, df_sort['real_val'], \n",
    "            marker='o', \n",
    "            label='real_val')\n",
    "plt.plot(idx, df_sort['predict_val'], \n",
    "         color='r',\n",
    "         label='predict_val')\n",
    "plt.xlabel('index')\n",
    "plt.ylabel('value')\n",
    "plt.legend()\n",
    "plt.show()"
   ]
  },
  {
   "cell_type": "code",
   "execution_count": null,
   "metadata": {},
   "outputs": [],
   "source": []
  },
  {
   "cell_type": "code",
   "execution_count": null,
   "metadata": {},
   "outputs": [],
   "source": []
  }
 ],
 "metadata": {
  "kernelspec": {
   "display_name": "Python 3",
   "language": "python",
   "name": "python3"
  },
  "language_info": {
   "codemirror_mode": {
    "name": "ipython",
    "version": 3
   },
   "file_extension": ".py",
   "mimetype": "text/x-python",
   "name": "python",
   "nbconvert_exporter": "python",
   "pygments_lexer": "ipython3",
   "version": "3.7.6"
  }
 },
 "nbformat": 4,
 "nbformat_minor": 4
}
