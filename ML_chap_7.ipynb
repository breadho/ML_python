{
 "cells": [
  {
   "cell_type": "markdown",
   "id": "40b7f789",
   "metadata": {},
   "source": [
    "# 7. 모형 평가"
   ]
  },
  {
   "cell_type": "markdown",
   "id": "8af2ce14",
   "metadata": {},
   "source": [
    "## 7.3 파이프라인"
   ]
  },
  {
   "cell_type": "code",
   "execution_count": 2,
   "id": "aadfdcd5",
   "metadata": {},
   "outputs": [
    {
     "name": "stderr",
     "output_type": "stream",
     "text": [
      "C:\\ProgramData\\Anaconda3\\lib\\site-packages\\sklearn\\utils\\deprecation.py:87: FutureWarning: Function load_boston is deprecated; `load_boston` is deprecated in 1.0 and will be removed in 1.2.\n",
      "\n",
      "    The Boston housing prices dataset has an ethical problem. You can refer to\n",
      "    the documentation of this function for further details.\n",
      "\n",
      "    The scikit-learn maintainers therefore strongly discourage the use of this\n",
      "    dataset unless the purpose of the code is to study and educate about\n",
      "    ethical issues in data science and machine learning.\n",
      "\n",
      "    In this special case, you can fetch the dataset from the original\n",
      "    source::\n",
      "\n",
      "        import pandas as pd\n",
      "        import numpy as np\n",
      "\n",
      "\n",
      "        data_url = \"http://lib.stat.cmu.edu/datasets/boston\"\n",
      "        raw_df = pd.read_csv(data_url, sep=\"\\s+\", skiprows=22, header=None)\n",
      "        data = np.hstack([raw_df.values[::2, :], raw_df.values[1::2, :2]])\n",
      "        target = raw_df.values[1::2, 2]\n",
      "\n",
      "    Alternative datasets include the California housing dataset (i.e.\n",
      "    :func:`~sklearn.datasets.fetch_california_housing`) and the Ames housing\n",
      "    dataset. You can load the datasets as follows::\n",
      "\n",
      "        from sklearn.datasets import fetch_california_housing\n",
      "        housing = fetch_california_housing()\n",
      "\n",
      "    for the California housing dataset and::\n",
      "\n",
      "        from sklearn.datasets import fetch_openml\n",
      "        housing = fetch_openml(name=\"house_prices\", as_frame=True)\n",
      "\n",
      "    for the Ames housing dataset.\n",
      "    \n",
      "  warnings.warn(msg, category=FutureWarning)\n"
     ]
    },
    {
     "data": {
      "text/plain": [
       "29.515137790197596"
      ]
     },
     "execution_count": 2,
     "metadata": {},
     "output_type": "execute_result"
    }
   ],
   "source": [
    "# 파이프 라인 사용 전 전체 코드\n",
    "from sklearn import datasets\n",
    "from sklearn.pipeline import Pipeline\n",
    "from sklearn.preprocessing import StandardScaler\n",
    "from sklearn.linear_model import LinearRegression\n",
    "from sklearn.model_selection import train_test_split\n",
    "from sklearn.metrics import mean_squared_error\n",
    "\n",
    "raw_boston = datasets.load_boston()\n",
    "\n",
    "X = raw_boston.data\n",
    "y = raw_boston.target\n",
    "\n",
    "# 트레이닝 / 테스트 데이터 분할\n",
    "X_tn, X_te, y_tn, y_te = train_test_split(X, y, random_state = 7)\n",
    "\n",
    "# 표준화 스케일링\n",
    "std_scale = StandardScaler()\n",
    "X_tn_std = std_scale.fit_transform(X_tn)\n",
    "X_te_std = std_scale.transform(X_te)\n",
    "\n",
    "# 학습\n",
    "clf_linear = LinearRegression()\n",
    "clf_linear.fit(X_tn_std, y_tn)\n",
    "\n",
    "# 예측\n",
    "pred_linear = clf_linear.predict(X_te_std)\n",
    "\n",
    "# 평가 \n",
    "mean_squared_error(y_te, pred_linear)"
   ]
  },
  {
   "cell_type": "code",
   "execution_count": 4,
   "id": "3263a381",
   "metadata": {},
   "outputs": [
    {
     "data": {
      "text/plain": [
       "29.515137790197596"
      ]
     },
     "execution_count": 4,
     "metadata": {},
     "output_type": "execute_result"
    }
   ],
   "source": [
    "# 파이프라인 사용 후 전체 코드\n",
    "X_tn, X_te, y_tn, y_te = train_test_split(X, y, random_state = 7)\n",
    "\n",
    "# 파이프라인\n",
    "linear_pipeline = Pipeline([\n",
    "    ('scaler', StandardScaler()),\n",
    "    ('linear_regression', LinearRegression())\n",
    "])\n",
    "\n",
    "# 학습\n",
    "linear_pipeline.fit(X_tn, y_tn)\n",
    "\n",
    "# 예측\n",
    "pred_linear = linear_pipeline.predict(X_te)\n",
    "\n",
    "# 평가\n",
    "mean_squared_error(y_te, pred_linear)"
   ]
  },
  {
   "cell_type": "markdown",
   "id": "79a11d26",
   "metadata": {},
   "source": [
    "## 7.4 그리드 서치(grid search)"
   ]
  },
  {
   "cell_type": "markdown",
   "id": "a4d663e5",
   "metadata": {},
   "source": [
    "- 머신러닝 과정에서 관심 있는 매개 변수들을 대상으로 학습 가능하도록 만드는 방식\n",
    "- 다음 코드는 k-nearest neighbor 알고리즘을 적용할 때 1부터 10까지의 k값 후보 중 가장 높은 성능을 보이는 k값을 정하는 과정"
   ]
  },
  {
   "cell_type": "code",
   "execution_count": 8,
   "id": "4557d2c9",
   "metadata": {},
   "outputs": [
    {
     "name": "stdout",
     "output_type": "stream",
     "text": [
      "{'k': 3}\n",
      "0.9736842105263158\n"
     ]
    }
   ],
   "source": [
    "# 그리드 서치 전체 코드\n",
    "from sklearn import datasets\n",
    "from sklearn.preprocessing import StandardScaler\n",
    "from sklearn.neighbors import KNeighborsClassifier\n",
    "from sklearn.model_selection import train_test_split\n",
    "\n",
    "from sklearn.metrics import accuracy_score\n",
    "from sklearn.metrics import confusion_matrix\n",
    "from sklearn.metrics import classification_report\n",
    "\n",
    "# 꽃 데이터 불러오기\n",
    "raw_iris = datasets.load_iris()\n",
    "\n",
    "# 피처/타깃\n",
    "X = raw_iris.data\n",
    "y = raw_iris.target\n",
    "\n",
    "# 트레이닝/테스트 데이터 분할\n",
    "X_tn, X_te, y_tn, y_te = train_test_split(X, y, random_state = 0)\n",
    "\n",
    "# 표준화 스케일\n",
    "std_sclae = StandardScaler()\n",
    "std_scale.fit(X_tn)\n",
    "X_tn_std = std_scale.transform(X_tn)\n",
    "X_te_std = std_scale.transform(X_te)\n",
    "\n",
    "best_accuracy = 0\n",
    "\n",
    "for k in [1, 2, 3, 4, 5, 6, 7, 8, 9, 10]:\n",
    "    clf_knn = KNeighborsClassifier(n_neighbors = k)\n",
    "    clf_knn.fit(X_tn_std, y_tn)\n",
    "    knn_pred = clf_knn.predict(X_te_std)\n",
    "    accuracy = accuracy_score(y_te, knn_pred)\n",
    "    if accuracy > best_accuracy:\n",
    "        best_accuracy = accuracy\n",
    "        final_k = {'k': k}\n",
    "        \n",
    "print(final_k)\n",
    "print(accuracy)"
   ]
  },
  {
   "cell_type": "markdown",
   "id": "8a375608",
   "metadata": {},
   "source": [
    "### 7.6.2 분류 문제에서의 성능 평가"
   ]
  },
  {
   "cell_type": "markdown",
   "id": "cbf885f2",
   "metadata": {},
   "source": [
    "- **정확도(Accuracy)**"
   ]
  },
  {
   "cell_type": "code",
   "execution_count": 9,
   "id": "57db7de9",
   "metadata": {},
   "outputs": [
    {
     "name": "stdout",
     "output_type": "stream",
     "text": [
      "0.5\n",
      "2\n"
     ]
    }
   ],
   "source": [
    "from sklearn.metrics import accuracy_score\n",
    "y_pred = [0, 2, 1, 3]\n",
    "y_true = [0, 1, 2, 3]\n",
    "print(accuracy_score(y_true, y_pred))\n",
    "print(accuracy_score(y_true, y_pred, normalize = False))"
   ]
  },
  {
   "cell_type": "markdown",
   "id": "903853a2",
   "metadata": {},
   "source": [
    "- **F1 score**"
   ]
  },
  {
   "cell_type": "markdown",
   "id": "e95864d1",
   "metadata": {},
   "source": [
    "- **Confusion Matrix**"
   ]
  },
  {
   "cell_type": "code",
   "execution_count": 10,
   "id": "a2a4d510",
   "metadata": {},
   "outputs": [
    {
     "data": {
      "text/plain": [
       "array([[2, 0, 0],\n",
       "       [0, 0, 1],\n",
       "       [1, 0, 2]], dtype=int64)"
      ]
     },
     "execution_count": 10,
     "metadata": {},
     "output_type": "execute_result"
    }
   ],
   "source": [
    "from sklearn.metrics import confusion_matrix\n",
    "y_true = [2, 0, 2, 2, 0, 1]\n",
    "y_pred = [0, 0, 2, 2, 0, 2]\n",
    "confusion_matrix(y_true, y_pred)"
   ]
  },
  {
   "cell_type": "markdown",
   "id": "7e57b6aa",
   "metadata": {},
   "source": [
    "주의: Ture - pred"
   ]
  },
  {
   "cell_type": "markdown",
   "id": "8e911cf5",
   "metadata": {},
   "source": [
    "- **Classification report**"
   ]
  },
  {
   "cell_type": "code",
   "execution_count": 11,
   "id": "afa27326",
   "metadata": {},
   "outputs": [
    {
     "name": "stdout",
     "output_type": "stream",
     "text": [
      "              precision    recall  f1-score   support\n",
      "\n",
      "     class 0       0.67      1.00      0.80         2\n",
      "     class 1       0.00      0.00      0.00         1\n",
      "     class 2       1.00      0.50      0.67         2\n",
      "\n",
      "    accuracy                           0.60         5\n",
      "   macro avg       0.56      0.50      0.49         5\n",
      "weighted avg       0.67      0.60      0.59         5\n",
      "\n"
     ]
    }
   ],
   "source": [
    "from sklearn.metrics import classification_report\n",
    "y_true = [0, 1, 2, 2, 0]\n",
    "y_pred = [0, 0, 2, 1, 0]\n",
    "target_names = ['class 0', 'class 1', 'class 2']\n",
    "print(classification_report(y_true, y_pred, target_names = target_names))"
   ]
  },
  {
   "cell_type": "markdown",
   "id": "d89d7a18",
   "metadata": {},
   "source": [
    "### 7.6.3 회귀 문제에서의 성능 평가"
   ]
  },
  {
   "cell_type": "markdown",
   "id": "55d4a291",
   "metadata": {},
   "source": [
    "- **Mean Absolute Error**"
   ]
  },
  {
   "cell_type": "code",
   "execution_count": 12,
   "id": "40a718b5",
   "metadata": {},
   "outputs": [
    {
     "name": "stdout",
     "output_type": "stream",
     "text": [
      "0.5\n"
     ]
    }
   ],
   "source": [
    "from sklearn.metrics import mean_absolute_error\n",
    "y_true = [3, -0.5, 2, 7]\n",
    "y_pred = [2.5, 0.0, 2, 8]\n",
    "print(mean_absolute_error(y_true, y_pred))"
   ]
  },
  {
   "cell_type": "markdown",
   "id": "df35f1a5",
   "metadata": {},
   "source": [
    "- **Mean Squared Error(MSE)**"
   ]
  },
  {
   "cell_type": "code",
   "execution_count": 13,
   "id": "e22ca2a2",
   "metadata": {},
   "outputs": [
    {
     "name": "stdout",
     "output_type": "stream",
     "text": [
      "0.375\n"
     ]
    }
   ],
   "source": [
    "from sklearn.metrics import mean_squared_error\n",
    "y_true = [3, -0.5, 2, 7]\n",
    "y_pred = [2.5, 0.0, 2, 8]\n",
    "print(mean_squared_error(y_true, y_pred))"
   ]
  },
  {
   "cell_type": "markdown",
   "id": "d6d310ae",
   "metadata": {},
   "source": [
    "- **r2 score**"
   ]
  },
  {
   "cell_type": "code",
   "execution_count": 14,
   "id": "b87ba7a0",
   "metadata": {},
   "outputs": [
    {
     "name": "stdout",
     "output_type": "stream",
     "text": [
      "0.9486081370449679\n"
     ]
    }
   ],
   "source": [
    "from sklearn.metrics import r2_score\n",
    "y_true = [3, -0.5, 2, 7]\n",
    "y_pred = [2.5, 0.0, 2, 8]\n",
    "print(r2_score(y_true, y_pred))"
   ]
  },
  {
   "cell_type": "markdown",
   "id": "80567d9b",
   "metadata": {},
   "source": [
    "### 7.6.4 군집 문제에서의 성능 평가"
   ]
  },
  {
   "cell_type": "markdown",
   "id": "37c3fad0",
   "metadata": {},
   "source": [
    "- **실루엣 스코어(Silhouette score)**"
   ]
  },
  {
   "cell_type": "code",
   "execution_count": 15,
   "id": "4d9e19a1",
   "metadata": {},
   "outputs": [
    {
     "name": "stdout",
     "output_type": "stream",
     "text": [
      "0.5789497702625118\n"
     ]
    }
   ],
   "source": [
    "from sklearn.metrics import silhouette_score\n",
    "X = [[1, 2], [4, 5], [2, 1], [6, 7], [2, 3]]\n",
    "labels = [0, 1, 0, 1, 0]\n",
    "sil_score = silhouette_score(X, labels)\n",
    "print(sil_score)"
   ]
  },
  {
   "cell_type": "markdown",
   "id": "9aa2b18c",
   "metadata": {},
   "source": [
    "# 8. 지도학습"
   ]
  },
  {
   "cell_type": "markdown",
   "id": "366cb3c3",
   "metadata": {},
   "source": [
    "## 8.3 k-nearest neighbor algorithm"
   ]
  },
  {
   "cell_type": "code",
   "execution_count": 16,
   "id": "058f34a2",
   "metadata": {},
   "outputs": [
    {
     "name": "stdout",
     "output_type": "stream",
     "text": [
      "[2 1 0 2 0 2 0 1 1 1 1 1 1 1 1 0 1 1 0 0 2 1 0 0 2 0 0 1 1 0 2 1 0 2 2 1 0\n",
      " 2]\n",
      "0.9473684210526315\n",
      "[[13  0  0]\n",
      " [ 0 15  1]\n",
      " [ 0  1  8]]\n",
      "              precision    recall  f1-score   support\n",
      "\n",
      "           0       1.00      1.00      1.00        13\n",
      "           1       0.94      0.94      0.94        16\n",
      "           2       0.89      0.89      0.89         9\n",
      "\n",
      "    accuracy                           0.95        38\n",
      "   macro avg       0.94      0.94      0.94        38\n",
      "weighted avg       0.95      0.95      0.95        38\n",
      "\n"
     ]
    }
   ],
   "source": [
    "from sklearn import datasets\n",
    "from sklearn.preprocessing import StandardScaler\n",
    "from sklearn.neighbors import KNeighborsClassifier\n",
    "from sklearn.model_selection import train_test_split\n",
    "\n",
    "from sklearn.metrics import accuracy_score\n",
    "from sklearn.metrics import confusion_matrix\n",
    "from sklearn.metrics import classification_report\n",
    "\n",
    "# 아이리스 데이터 불러오기 \n",
    "raw_iris = datasets.load_iris()\n",
    "\n",
    "# 피처/타깃\n",
    "X = raw_iris.data\n",
    "y = raw_iris.target\n",
    "\n",
    "# 트레이닝/테스트 데이터 분할\n",
    "X_tn, X_te, y_tn, y_te = train_test_split(X, y, random_state = 0)\n",
    "\n",
    "# 표준화 스케일\n",
    "std_scale = StandardScaler()\n",
    "std_scale.fit(X_tn)\n",
    "X_tn_std = std_scale.transform(X_tn)\n",
    "X_te_std = std_scale.transform(X_te)\n",
    "\n",
    "# 학습\n",
    "clf_knn = KNeighborsClassifier(n_neighbors = 2)\n",
    "clf_knn.fit(X_tn_std, y_tn)\n",
    "\n",
    "# 예측\n",
    "knn_pred = clf_knn.predict(X_te_std)\n",
    "print(knn_pred)\n",
    "\n",
    "# 정확도\n",
    "accuracy = accuracy_score(y_te, knn_pred)\n",
    "print(accuracy)\n",
    "\n",
    "# confusion matrix 확인\n",
    "conf_matrix = confusion_matrix(y_te, knn_pred)\n",
    "print(conf_matrix)\n",
    "\n",
    "# 분류 리포트 확인\n",
    "class_report = classification_report(y_te, knn_pred)\n",
    "print(class_report)"
   ]
  },
  {
   "cell_type": "markdown",
   "id": "93aee861",
   "metadata": {},
   "source": [
    "## 8.4 선형 회귀 분석"
   ]
  },
  {
   "cell_type": "code",
   "execution_count": 17,
   "id": "e23a2d11",
   "metadata": {},
   "outputs": [
    {
     "name": "stdout",
     "output_type": "stream",
     "text": [
      "[-1.07145146  1.34036243  0.26298069  0.66554537 -2.49842551  1.97524314\n",
      "  0.19516605 -3.14274974  2.66736136 -1.80685572 -2.13034748  0.56172933\n",
      " -4.03223518]\n",
      "22.344591029023768\n",
      "[-1.05933451  1.31050717  0.23022789  0.66955241 -2.45607567  1.99086611\n",
      "  0.18119169 -3.09919804  2.56480813 -1.71116799 -2.12002592  0.56264409\n",
      " -4.00942448]\n",
      "22.344591029023768\n",
      "[-1.04326518  1.27752711  0.1674367   0.66758228 -2.41559964  1.99244179\n",
      "  0.14733958 -3.09473711  2.46431135 -1.60552274 -2.11046422  0.55200229\n",
      " -4.00809905]\n",
      "22.344591029023768\n",
      "[-1.02916603  1.23681955  0.15236504  0.67859622 -2.34646781  2.02965524\n",
      "  0.14575132 -2.98592423  2.32013379 -1.48829485 -2.09271972  0.56506801\n",
      " -3.9495281 ]\n",
      "22.344591029023768\n",
      "0.7789410172622858\n",
      "0.7789704562726604\n",
      "0.7787621490259894\n",
      "0.7787876079239252\n",
      "21.89776539604949\n",
      "21.894849212618755\n",
      "21.91548381050483\n",
      "21.912961890936874\n"
     ]
    },
    {
     "name": "stderr",
     "output_type": "stream",
     "text": [
      "C:\\ProgramData\\Anaconda3\\lib\\site-packages\\sklearn\\utils\\deprecation.py:87: FutureWarning: Function load_boston is deprecated; `load_boston` is deprecated in 1.0 and will be removed in 1.2.\n",
      "\n",
      "    The Boston housing prices dataset has an ethical problem. You can refer to\n",
      "    the documentation of this function for further details.\n",
      "\n",
      "    The scikit-learn maintainers therefore strongly discourage the use of this\n",
      "    dataset unless the purpose of the code is to study and educate about\n",
      "    ethical issues in data science and machine learning.\n",
      "\n",
      "    In this special case, you can fetch the dataset from the original\n",
      "    source::\n",
      "\n",
      "        import pandas as pd\n",
      "        import numpy as np\n",
      "\n",
      "\n",
      "        data_url = \"http://lib.stat.cmu.edu/datasets/boston\"\n",
      "        raw_df = pd.read_csv(data_url, sep=\"\\s+\", skiprows=22, header=None)\n",
      "        data = np.hstack([raw_df.values[::2, :], raw_df.values[1::2, :2]])\n",
      "        target = raw_df.values[1::2, 2]\n",
      "\n",
      "    Alternative datasets include the California housing dataset (i.e.\n",
      "    :func:`~sklearn.datasets.fetch_california_housing`) and the Ames housing\n",
      "    dataset. You can load the datasets as follows::\n",
      "\n",
      "        from sklearn.datasets import fetch_california_housing\n",
      "        housing = fetch_california_housing()\n",
      "\n",
      "    for the California housing dataset and::\n",
      "\n",
      "        from sklearn.datasets import fetch_openml\n",
      "        housing = fetch_openml(name=\"house_prices\", as_frame=True)\n",
      "\n",
      "    for the Ames housing dataset.\n",
      "    \n",
      "  warnings.warn(msg, category=FutureWarning)\n"
     ]
    }
   ],
   "source": [
    "# 전체 코드\n",
    "from sklearn import datasets\n",
    "from sklearn.preprocessing import StandardScaler\n",
    "from sklearn.model_selection import train_test_split\n",
    "\n",
    "from sklearn.linear_model import Ridge\n",
    "from sklearn.linear_model import Lasso\n",
    "from sklearn.linear_model import ElasticNet\n",
    "from sklearn.linear_model import LinearRegression\n",
    "\n",
    "from sklearn.metrics import r2_score\n",
    "from sklearn.metrics import mean_squared_error\n",
    "\n",
    "# 데이터 불러오기 \n",
    "raw_boston = datasets.load_boston()\n",
    "\n",
    "# 피처, 타깃 데이터 지정\n",
    "X = raw_boston.data\n",
    "y = raw_boston.target\n",
    "\n",
    "# 트레이닝/테스트 데이터 분할\n",
    "X_tn, X_te, y_tn, y_te = train_test_split(X, y, random_state = 1)\n",
    "\n",
    "# 데이터 표준화\n",
    "std_scale = StandardScaler()\n",
    "std_scale.fit(X_tn)\n",
    "X_tn_std = std_scale.transform(X_tn)\n",
    "X_te_std = std_scale.transform(X_te)\n",
    "\n",
    "# 선형 회귀 분석 학습\n",
    "clf_lr = LinearRegression()\n",
    "clf_lr.fit(X_tn_std, y_tn)\n",
    "\n",
    "# 선형 회귀 분석 모형 추정 계수 확인\n",
    "print(clf_lr.coef_)\n",
    "print(clf_lr.intercept_)\n",
    "\n",
    "# 릿지 회귀 분석(L2 제약식 적용)\n",
    "clf_ridge = Ridge(alpha = 1)\n",
    "clf_ridge.fit(X_tn_std, y_tn)\n",
    "\n",
    "# 릿지 회귀 분석 모형 추정 계수 확인\n",
    "print(clf_ridge.coef_)\n",
    "print(clf_ridge.intercept_)\n",
    "\n",
    "# 라쏘 회귀 분석(L1 제약식 적용)\n",
    "clf_lasso = Lasso(alpha = 0.01)\n",
    "clf_lasso.fit(X_tn_std, y_tn)\n",
    "\n",
    "# 라쏘 회귀 분석 모형 추정 계수 확인\n",
    "print(clf_lasso.coef_)\n",
    "print(clf_lasso.intercept_)\n",
    "\n",
    "# 엘라스틱 넷\n",
    "clf_elastic = ElasticNet(alpha = 0.01, l1_ratio = 0.01)\n",
    "clf_elastic.fit(X_tn_std, y_tn)\n",
    "\n",
    "# 엘라스틱 넷 모형 추정 계수 확인\n",
    "print(clf_elastic.coef_)\n",
    "print(clf_elastic.intercept_)\n",
    "\n",
    "# 예측 \n",
    "pred_lr = clf_lr.predict(X_te_std)\n",
    "pred_ridge = clf_ridge.predict(X_te_std)\n",
    "pred_lasso = clf_lasso.predict(X_te_std)\n",
    "pred_elastic = clf_elastic.predict(X_te_std)\n",
    "\n",
    "# 모형 평가 R-squared\n",
    "print(r2_score(y_te, pred_lr))\n",
    "print(r2_score(y_te, pred_ridge))\n",
    "print(r2_score(y_te, pred_lasso))\n",
    "print(r2_score(y_te, pred_elastic))\n",
    "\n",
    "# 모형 평가 MSE\n",
    "print(mean_squared_error(y_te, pred_lr))\n",
    "print(mean_squared_error(y_te, pred_ridge))\n",
    "print(mean_squared_error(y_te, pred_lasso))\n",
    "print(mean_squared_error(y_te, pred_elastic))"
   ]
  },
  {
   "cell_type": "markdown",
   "id": "40767837",
   "metadata": {},
   "source": [
    "## 8.5 로지스틱 회귀"
   ]
  },
  {
   "cell_type": "code",
   "execution_count": 18,
   "id": "66f2f4ce",
   "metadata": {},
   "outputs": [
    {
     "name": "stdout",
     "output_type": "stream",
     "text": [
      "[[-0.29792942 -0.58056355 -0.3109406  -0.377129   -0.11984232  0.42855478\n",
      "  -0.71131106 -0.85371164 -0.46688191  0.11762548 -1.38262136  0.0899184\n",
      "  -0.94778563 -0.94686238  0.18575731  0.99305313  0.11090349 -0.3458275\n",
      "   0.20290919  0.80470317 -0.91626377 -0.91726667 -0.8159834  -0.86539197\n",
      "  -0.45539191  0.10347391 -0.83009341 -0.98445173 -0.5920036  -0.61086989]]\n",
      "[0.02713751]\n",
      "[0 1 1 1 1 1 1 1 1 1 1 1 1 0 1 0 1 0 0 0 0 0 1 1 0 1 1 0 1 0 1 0 1 0 1 0 1\n",
      " 0 1 0 0 1 0 1 1 0 1 1 1 0 0 0 0 1 1 1 1 1 1 0 0 0 1 1 0 1 0 0 0 1 1 0 1 0\n",
      " 0 1 1 1 1 1 0 0 0 1 0 1 1 1 0 0 1 0 0 0 1 1 0 1 1 1 1 1 1 1 0 1 0 1 1 1 1\n",
      " 0 0 1 1 1 1 1 1 1 1 1 1 1 0 1 1 1 1 1 0 1 1 1 1 1 0 0 0 1 1 1 0]\n",
      "[[9.98638613e-01 1.36138656e-03]\n",
      " [3.95544804e-02 9.60445520e-01]\n",
      " [1.30896362e-03 9.98691036e-01]\n",
      " [1.24473354e-02 9.87552665e-01]\n",
      " [2.44132101e-04 9.99755868e-01]\n",
      " [4.50491513e-03 9.95495085e-01]\n",
      " [1.13985968e-04 9.99886014e-01]\n",
      " [1.82475894e-03 9.98175241e-01]\n",
      " [9.67965506e-05 9.99903203e-01]\n",
      " [1.75222878e-06 9.99998248e-01]\n",
      " [1.76572612e-01 8.23427388e-01]\n",
      " [8.24119135e-02 9.17588087e-01]\n",
      " [9.66067493e-06 9.99990339e-01]\n",
      " [5.39343196e-01 4.60656804e-01]\n",
      " [3.98187854e-01 6.01812146e-01]\n",
      " [9.95762760e-01 4.23724017e-03]\n",
      " [2.75612083e-03 9.97243879e-01]\n",
      " [9.99997097e-01 2.90271401e-06]\n",
      " [9.99926506e-01 7.34935682e-05]\n",
      " [9.99999997e-01 2.78313939e-09]\n",
      " [9.98738365e-01 1.26163489e-03]\n",
      " [9.81405399e-01 1.85946008e-02]\n",
      " [1.77902039e-02 9.82209796e-01]\n",
      " [9.65876713e-04 9.99034123e-01]\n",
      " [9.99464578e-01 5.35421808e-04]\n",
      " [6.73385015e-04 9.99326615e-01]\n",
      " [5.50833875e-05 9.99944917e-01]\n",
      " [9.69828919e-01 3.01710813e-02]\n",
      " [1.62119075e-03 9.98378809e-01]\n",
      " [9.99997821e-01 2.17867101e-06]\n",
      " [6.00571253e-05 9.99939943e-01]\n",
      " [9.99954808e-01 4.51921300e-05]\n",
      " [1.09252006e-01 8.90747994e-01]\n",
      " [9.97255978e-01 2.74402243e-03]\n",
      " [4.51047979e-06 9.99995490e-01]\n",
      " [9.97449456e-01 2.55054412e-03]\n",
      " [1.97830173e-02 9.80216983e-01]\n",
      " [9.99571529e-01 4.28470822e-04]\n",
      " [8.45566258e-03 9.91544337e-01]\n",
      " [9.99487912e-01 5.12087502e-04]\n",
      " [9.42409583e-01 5.75904174e-02]\n",
      " [8.34700429e-05 9.99916530e-01]\n",
      " [9.32505814e-01 6.74941855e-02]\n",
      " [8.11944408e-05 9.99918806e-01]\n",
      " [6.08911689e-02 9.39108831e-01]\n",
      " [9.99999999e-01 1.17373572e-09]\n",
      " [1.00967748e-06 9.99998990e-01]\n",
      " [1.48182234e-02 9.85181777e-01]\n",
      " [6.33630458e-04 9.99366370e-01]\n",
      " [9.99927519e-01 7.24813084e-05]\n",
      " [9.99989528e-01 1.04724511e-05]\n",
      " [8.04262948e-01 1.95737052e-01]\n",
      " [9.99965014e-01 3.49860375e-05]\n",
      " [1.36691079e-03 9.98633089e-01]\n",
      " [1.95330244e-03 9.98046698e-01]\n",
      " [5.74609838e-04 9.99425390e-01]\n",
      " [1.05063052e-03 9.98949369e-01]\n",
      " [7.96089471e-03 9.92039105e-01]\n",
      " [1.00288029e-02 9.89971197e-01]\n",
      " [9.99999999e-01 1.44073341e-09]\n",
      " [9.97609027e-01 2.39097260e-03]\n",
      " [9.99257870e-01 7.42129950e-04]\n",
      " [3.14309030e-05 9.99968569e-01]\n",
      " [4.40044150e-03 9.95599559e-01]\n",
      " [9.99897373e-01 1.02627439e-04]\n",
      " [1.52976144e-01 8.47023856e-01]\n",
      " [1.00000000e+00 2.39185116e-13]\n",
      " [9.99998777e-01 1.22317020e-06]\n",
      " [9.99999046e-01 9.53579837e-07]\n",
      " [7.96239235e-04 9.99203761e-01]\n",
      " [3.87033734e-01 6.12966266e-01]\n",
      " [9.99993469e-01 6.53125942e-06]\n",
      " [2.97085842e-03 9.97029142e-01]\n",
      " [8.09412134e-01 1.90587866e-01]\n",
      " [9.99996998e-01 3.00240009e-06]\n",
      " [1.75950117e-02 9.82404988e-01]\n",
      " [4.94325863e-05 9.99950567e-01]\n",
      " [3.51047770e-02 9.64895223e-01]\n",
      " [4.25841119e-04 9.99574159e-01]\n",
      " [2.09232609e-05 9.99979077e-01]\n",
      " [9.82374564e-01 1.76254356e-02]\n",
      " [1.00000000e+00 3.57855006e-10]\n",
      " [9.99988747e-01 1.12526453e-05]\n",
      " [5.94724730e-05 9.99940528e-01]\n",
      " [9.62731634e-01 3.72683662e-02]\n",
      " [1.69452548e-03 9.98305475e-01]\n",
      " [6.14966533e-05 9.99938503e-01]\n",
      " [6.36886875e-06 9.99993631e-01]\n",
      " [9.99902779e-01 9.72205364e-05]\n",
      " [1.00000000e+00 8.14423797e-11]\n",
      " [3.47458432e-05 9.99965254e-01]\n",
      " [5.53589378e-01 4.46410622e-01]\n",
      " [6.91462937e-01 3.08537063e-01]\n",
      " [9.99996851e-01 3.14924112e-06]\n",
      " [2.01951834e-03 9.97980482e-01]\n",
      " [2.39759190e-03 9.97602408e-01]\n",
      " [9.99999992e-01 7.92006333e-09]\n",
      " [1.03400237e-02 9.89659976e-01]\n",
      " [9.23218910e-03 9.90767811e-01]\n",
      " [9.80048490e-04 9.99019952e-01]\n",
      " [5.45753731e-09 9.99999995e-01]\n",
      " [3.09034901e-03 9.96909651e-01]\n",
      " [6.22819445e-03 9.93771806e-01]\n",
      " [1.49494565e-01 8.50505435e-01]\n",
      " [9.99994787e-01 5.21292981e-06]\n",
      " [6.02188244e-04 9.99397812e-01]\n",
      " [9.99995658e-01 4.34219020e-06]\n",
      " [9.49795077e-02 9.05020492e-01]\n",
      " [3.27428663e-01 6.72571337e-01]\n",
      " [1.72350019e-02 9.82764998e-01]\n",
      " [3.75686888e-02 9.62431311e-01]\n",
      " [9.99975711e-01 2.42887910e-05]\n",
      " [9.99911399e-01 8.86014791e-05]\n",
      " [8.65663331e-02 9.13433667e-01]\n",
      " [8.21398481e-04 9.99178602e-01]\n",
      " [2.45946373e-02 9.75405363e-01]\n",
      " [1.43898490e-01 8.56101510e-01]\n",
      " [1.58128486e-03 9.98418715e-01]\n",
      " [1.79682971e-02 9.82031703e-01]\n",
      " [1.18803803e-03 9.98811962e-01]\n",
      " [1.55728346e-02 9.84427165e-01]\n",
      " [1.43822197e-03 9.98561778e-01]\n",
      " [3.86829219e-01 6.13170781e-01]\n",
      " [2.65232841e-02 9.73476716e-01]\n",
      " [9.99999918e-01 8.17382381e-08]\n",
      " [1.28424726e-01 8.71575274e-01]\n",
      " [4.67709202e-01 5.32290798e-01]\n",
      " [2.58725940e-04 9.99741274e-01]\n",
      " [3.25269018e-05 9.99967473e-01]\n",
      " [4.00075207e-05 9.99959992e-01]\n",
      " [9.99901036e-01 9.89636008e-05]\n",
      " [1.27248974e-04 9.99872751e-01]\n",
      " [2.66411581e-04 9.99733588e-01]\n",
      " [2.13163719e-01 7.86836281e-01]\n",
      " [2.92511631e-02 9.70748837e-01]\n",
      " [2.37309476e-05 9.99976269e-01]\n",
      " [5.09465728e-01 4.90534272e-01]\n",
      " [6.17881971e-01 3.82118029e-01]\n",
      " [1.00000000e+00 1.46648090e-12]\n",
      " [8.41453252e-05 9.99915855e-01]\n",
      " [1.58701592e-03 9.98412984e-01]\n",
      " [1.26424968e-03 9.98735750e-01]\n",
      " [9.99999994e-01 5.81805301e-09]]\n",
      "0.9666666666666667\n",
      "[[50  3]\n",
      " [ 3 87]]\n",
      "              precision    recall  f1-score   support\n",
      "\n",
      "           0       0.94      0.94      0.94        53\n",
      "           1       0.97      0.97      0.97        90\n",
      "\n",
      "    accuracy                           0.96       143\n",
      "   macro avg       0.96      0.96      0.96       143\n",
      "weighted avg       0.96      0.96      0.96       143\n",
      "\n"
     ]
    }
   ],
   "source": [
    "# 전체 코드\n",
    "from sklearn import datasets\n",
    "from sklearn.preprocessing import StandardScaler\n",
    "from sklearn.model_selection import train_test_split\n",
    "\n",
    "from sklearn.linear_model import LogisticRegression\n",
    "\n",
    "from sklearn.metrics import precision_score\n",
    "from sklearn.metrics import confusion_matrix\n",
    "from sklearn.metrics import classification_report\n",
    "\n",
    "# 데이터 불러오기 \n",
    "raw_cancer = datasets.load_breast_cancer()\n",
    "\n",
    "# 피처, 타깃 데이터 지정\n",
    "X = raw_cancer.data\n",
    "y = raw_cancer.target\n",
    "\n",
    "# 트레이닝/테스트 데이터 분할\n",
    "X_tn, X_te, y_tn, y_te = train_test_split(X, y, random_state=0)\n",
    "\n",
    "# 데이터 표준화\n",
    "std_scale = StandardScaler()\n",
    "std_scale.fit(X_tn)\n",
    "X_tn_std = std_scale.transform(X_tn)\n",
    "X_te_std = std_scale.transform(X_te)\n",
    "\n",
    "# 로지스틱 회귀 분석(L2 제약식 적용)\n",
    "clf_logi_l2 = LogisticRegression(penalty='l2')\n",
    "clf_logi_l2.fit(X_tn_std, y_tn)\n",
    "\n",
    "# 로지스틱 회귀 분석 모형(L2 제약식 적용) 추정 계수\n",
    "print(clf_logi_l2.coef_)\n",
    "print(clf_logi_l2.intercept_)\n",
    "\n",
    "# 예측 \n",
    "pred_logistic = clf_logi_l2.predict(X_te_std)\n",
    "print(pred_logistic)\n",
    "\n",
    "# 확률값으로 예측\n",
    "pred_proba = clf_logi_l2.predict_proba(X_te_std)\n",
    "print(pred_proba)\n",
    "\n",
    "# 정밀도 \n",
    "precision = precision_score(y_te, pred_logistic)\n",
    "print(precision)\n",
    "\n",
    "# confusion matrix 확인\n",
    "conf_matrix = confusion_matrix(y_te, pred_logistic)\n",
    "print(conf_matrix)\n",
    "\n",
    "# 분류 리포트 확인\n",
    "class_report = classification_report(y_te, pred_logistic)\n",
    "print(class_report)"
   ]
  },
  {
   "cell_type": "markdown",
   "id": "12036b2a",
   "metadata": {},
   "source": [
    "## 8.6 나이브 베이즈"
   ]
  },
  {
   "cell_type": "code",
   "execution_count": 22,
   "id": "e0cf2f79",
   "metadata": {},
   "outputs": [
    {
     "name": "stdout",
     "output_type": "stream",
     "text": [
      "[0 2 1 0 1 1 0 2 1 1 2 2 0 0 2 1 0 0 2 0 0 0 0 1 1 1 1 1 1 2 0 0 1 0 0 0 2\n",
      " 1 1 2 0 0 1 1 1]\n",
      "0.9333333333333333\n",
      "[[16  0  0]\n",
      " [ 2 18  1]\n",
      " [ 0  0  8]]\n",
      "              precision    recall  f1-score   support\n",
      "\n",
      "           0       0.89      1.00      0.94        16\n",
      "           1       1.00      0.86      0.92        21\n",
      "           2       0.89      1.00      0.94         8\n",
      "\n",
      "    accuracy                           0.93        45\n",
      "   macro avg       0.93      0.95      0.94        45\n",
      "weighted avg       0.94      0.93      0.93        45\n",
      "\n"
     ]
    }
   ],
   "source": [
    "# 전체 코드\n",
    "from sklearn import datasets\n",
    "from sklearn.preprocessing import StandardScaler\n",
    "from sklearn.model_selection import train_test_split\n",
    "\n",
    "from sklearn.naive_bayes import GaussianNB\n",
    "\n",
    "from sklearn.metrics import recall_score\n",
    "from sklearn.metrics import confusion_matrix\n",
    "from sklearn.metrics import classification_report\n",
    "\n",
    "# 데이터 불러오기\n",
    "raw_wine = datasets.load_wine()\n",
    "\n",
    "# 피처, 타깃 데이터 지정\n",
    "X = raw_wine.data\n",
    "y = raw_wine.target\n",
    "\n",
    "# 트레이닝/테스트 데이터 분할\n",
    "X_tn, X_te, y_tn, y_te = train_test_split(X, y, random_state=0)\n",
    "\n",
    "# 데이터 표준화\n",
    "std_scale = StandardScaler()\n",
    "std_scale.fit(X_tn)\n",
    "X_tn_std = std_scale.transform(X_tn)\n",
    "X_te_std = std_scale.transform(X_te)\n",
    "\n",
    "# 나이브 베이즈 학습\n",
    "clf_gnb = GaussianNB()\n",
    "clf_gnb.fit(X_tn_std, y_tn)\n",
    "\n",
    "# 예측 \n",
    "pred_gnb = clf_gnb.predict(X_te_std)\n",
    "print(pred_gnb)\n",
    "\n",
    "# 리콜\n",
    "# average 인수 지정하지 않으면 아래의 에러가 발생 \n",
    "'''\n",
    "ValueError: Target is multiclass but average='binary'. \n",
    "Please choose another average setting, one of [None, 'micro', 'macro', 'weighted'].\n",
    "\n",
    "# average 인수 \n",
    "average{‘micro’, ‘macro’, ‘samples’, ‘weighted’, ‘binary’} or None, default=’binary’\n",
    "This parameter is required for multiclass/multilabel targets. If None, the scores \n",
    "for each class are returned. Otherwise, this determines the type of averaging performed on the data:\n",
    "\n",
    "'binary':\n",
    "Only report results for the class specified by pos_label. \n",
    "This is applicable only if targets (y_{true,pred}) are binary.\n",
    "\n",
    "'micro':\n",
    "Calculate metrics globally by counting the total true positives, \n",
    "false negatives and false positives.\n",
    "\n",
    "'macro':\n",
    "Calculate metrics for each label, and find their unweighted mean. \n",
    "This does not take label imbalance into account.\n",
    "\n",
    "'weighted':\n",
    "Calculate metrics for each label, and find their average weighted by support \n",
    "(the number of true instances for each label). \n",
    "This alters ‘macro’ to account for label imbalance; \n",
    "it can result in an F-score that is not between precision and recall.\n",
    "Weighted recall is equal to accuracy.\n",
    "\n",
    "'samples':\n",
    "Calculate metrics for each instance, and find their average \n",
    "(only meaningful for multilabel classification where this differs from accuracy_score).\n",
    "'''\n",
    "recall = recall_score(y_te, pred_gnb, average = 'micro')\n",
    "print(recall)\n",
    "\n",
    "# confusion matrix 확인\n",
    "conf_matrix = confusion_matrix(y_te, pred_gnb)\n",
    "print(conf_matrix)\n",
    "\n",
    "# 분류 리포트 확인\n",
    "class_report = classification_report(y_te, pred_gnb)\n",
    "print(class_report)"
   ]
  },
  {
   "cell_type": "markdown",
   "id": "dddaf8cf",
   "metadata": {},
   "source": [
    "## 8.7 의사결정 나무"
   ]
  },
  {
   "cell_type": "code",
   "execution_count": 25,
   "id": "bdfece20",
   "metadata": {},
   "outputs": [
    {
     "name": "stdout",
     "output_type": "stream",
     "text": [
      "[0 2 1 0 1 1 0 2 1 1 2 2 0 1 2 1 0 0 2 0 1 0 1 1 1 1 1 1 1 2 0 0 1 0 0 0 2\n",
      " 1 1 2 1 0 1 1 1]\n",
      "0.9333333333333333\n",
      "[[14  2  0]\n",
      " [ 0 20  1]\n",
      " [ 0  0  8]]\n",
      "              precision    recall  f1-score   support\n",
      "\n",
      "           0       1.00      0.88      0.93        16\n",
      "           1       0.91      0.95      0.93        21\n",
      "           2       0.89      1.00      0.94         8\n",
      "\n",
      "    accuracy                           0.93        45\n",
      "   macro avg       0.93      0.94      0.93        45\n",
      "weighted avg       0.94      0.93      0.93        45\n",
      "\n"
     ]
    }
   ],
   "source": [
    "# 전체 코드\n",
    "from sklearn import datasets\n",
    "from sklearn.preprocessing import StandardScaler\n",
    "from sklearn.model_selection import train_test_split\n",
    "\n",
    "from sklearn import tree\n",
    "\n",
    "from sklearn.metrics import f1_score\n",
    "from sklearn.metrics import confusion_matrix\n",
    "from sklearn.metrics import classification_report\n",
    "\n",
    "# 데이터 불러오기 \n",
    "raw_wine = datasets.load_wine()\n",
    "\n",
    "# 피처, 타깃 데이터 지정\n",
    "X = raw_wine.data\n",
    "y = raw_wine.target\n",
    "\n",
    "# 트레이닝/테스트 데이터 분할\n",
    "X_tn, X_te, y_tn, y_te = train_test_split(X, y, random_state=0)\n",
    "\n",
    "# 데이터 표준화\n",
    "std_scale = StandardScaler()\n",
    "std_scale.fit(X_tn)\n",
    "X_tn_std = std_scale.transform(X_tn)\n",
    "X_te_std = std_scale.transform(X_te)\n",
    "\n",
    "# 의사결정나무 학습\n",
    "clf_tree = tree.DecisionTreeClassifier(random_state=0)\n",
    "clf_tree.fit(X_tn_std, y_tn)\n",
    "\n",
    "# 예측\n",
    "pred_tree = clf_tree.predict(X_te_std)\n",
    "print(pred_tree)\n",
    "\n",
    "# f1 score\n",
    "f1 = f1_score(y_te, pred_tree, average = 'micro')\n",
    "print(f1)\n",
    "\n",
    "# confusion matrix 확인\n",
    "conf_matrix = confusion_matrix(y_te, pred_tree)\n",
    "print(conf_matrix)\n",
    "\n",
    "# 분류 리포트 확인\n",
    "class_report = classification_report(y_te, pred_tree)\n",
    "print(class_report)"
   ]
  },
  {
   "cell_type": "markdown",
   "id": "4feed182",
   "metadata": {},
   "source": [
    "## 8.8 서포트 벡터 머신(Support Vector Machine)"
   ]
  },
  {
   "cell_type": "code",
   "execution_count": 26,
   "id": "13e22535",
   "metadata": {},
   "outputs": [
    {
     "name": "stdout",
     "output_type": "stream",
     "text": [
      "[0 2 1 0 1 1 0 2 1 1 2 2 0 1 2 1 0 0 1 0 1 0 0 1 1 1 1 1 1 2 0 0 1 0 0 0 2\n",
      " 1 1 2 0 0 1 1 1]\n",
      "1.0\n",
      "[[16  0  0]\n",
      " [ 0 21  0]\n",
      " [ 0  0  8]]\n",
      "              precision    recall  f1-score   support\n",
      "\n",
      "           0       1.00      1.00      1.00        16\n",
      "           1       1.00      1.00      1.00        21\n",
      "           2       1.00      1.00      1.00         8\n",
      "\n",
      "    accuracy                           1.00        45\n",
      "   macro avg       1.00      1.00      1.00        45\n",
      "weighted avg       1.00      1.00      1.00        45\n",
      "\n"
     ]
    }
   ],
   "source": [
    "from sklearn import datasets\n",
    "from sklearn.preprocessing import StandardScaler\n",
    "from sklearn.model_selection import train_test_split\n",
    "\n",
    "from sklearn import svm\n",
    "\n",
    "from sklearn.metrics import accuracy_score\n",
    "from sklearn.metrics import confusion_matrix\n",
    "from sklearn.metrics import classification_report\n",
    "\n",
    "# 데이터 불러오기\n",
    "raw_wine = datasets.load_wine()\n",
    "\n",
    "# 피처, 타깃 데이터 지정\n",
    "X = raw_wine.data\n",
    "y = raw_wine.target\n",
    "\n",
    "# 트레이닝/테스트 데이터 분할\n",
    "X_tn, X_te, y_tn, y_te = train_test_split(X, y, random_state=0)\n",
    "\n",
    "# 데이터 표준화\n",
    "std_scale = StandardScaler()\n",
    "std_scale.fit(X_tn)\n",
    "X_tn_std = std_scale.transform(X_tn)\n",
    "X_te_std = std_scale.transform(X_te)\n",
    "\n",
    "# 서포트 벡터 머신 학습\n",
    "clf_svm_lr = svm.SVC(kernel='linear', random_state=0)\n",
    "clf_svm_lr.fit(X_tn_std, y_tn)\n",
    "\n",
    "# 예측\n",
    "pred_svm = clf_svm_lr.predict(X_te_std)\n",
    "print(pred_svm)\n",
    "\n",
    "# 정확도\n",
    "accuracy = accuracy_score(y_te, pred_svm)\n",
    "print(accuracy)\n",
    "\n",
    "# confusion matrix 확인\n",
    "conf_matrix = confusion_matrix(y_te, pred_svm)\n",
    "print(conf_matrix)\n",
    "\n",
    "# 분류 리포트 확인\n",
    "class_report = classification_report(y_te, pred_svm)\n",
    "print(class_report)"
   ]
  },
  {
   "cell_type": "markdown",
   "id": "86ceff27",
   "metadata": {},
   "source": [
    "## 8.9 크로스 밸리데이션(Cross validation)"
   ]
  },
  {
   "cell_type": "code",
   "execution_count": 33,
   "id": "e21f2eb9",
   "metadata": {},
   "outputs": [
    {
     "name": "stdout",
     "output_type": "stream",
     "text": [
      "{'mean_fit_time': array([0.00019984, 0.00060463, 0.00080023, 0.00019999, 0.0004003 ,\n",
      "       0.00100021, 0.00079699, 0.00100007]), 'std_fit_time': array([3.99684906e-04, 4.93745087e-04, 4.00115551e-04, 3.99971008e-04,\n",
      "       4.90271296e-04, 1.97412887e-06, 3.98527204e-04, 1.90734863e-07]), 'mean_score_time': array([0.        , 0.00039945, 0.        , 0.0001996 , 0.00019979,\n",
      "       0.        , 0.00019994, 0.        ]), 'std_score_time': array([0.        , 0.00048922, 0.        , 0.00039921, 0.00039959,\n",
      "       0.        , 0.00039988, 0.        ]), 'param_C': masked_array(data=[0.5, 0.5, 1, 1, 10, 10, 100, 100],\n",
      "             mask=[False, False, False, False, False, False, False, False],\n",
      "       fill_value='?',\n",
      "            dtype=object), 'param_kernel': masked_array(data=['linear', 'rbf', 'linear', 'rbf', 'linear', 'rbf',\n",
      "                   'linear', 'rbf'],\n",
      "             mask=[False, False, False, False, False, False, False, False],\n",
      "       fill_value='?',\n",
      "            dtype=object), 'params': [{'C': 0.5, 'kernel': 'linear'}, {'C': 0.5, 'kernel': 'rbf'}, {'C': 1, 'kernel': 'linear'}, {'C': 1, 'kernel': 'rbf'}, {'C': 10, 'kernel': 'linear'}, {'C': 10, 'kernel': 'rbf'}, {'C': 100, 'kernel': 'linear'}, {'C': 100, 'kernel': 'rbf'}], 'split0_test_score': array([0.96296296, 0.96296296, 0.96296296, 0.96296296, 0.96296296,\n",
      "       0.96296296, 0.96296296, 0.96296296]), 'split1_test_score': array([1., 1., 1., 1., 1., 1., 1., 1.]), 'split2_test_score': array([0.96296296, 1.        , 1.        , 1.        , 1.        ,\n",
      "       0.96296296, 1.        , 0.96296296]), 'split3_test_score': array([1., 1., 1., 1., 1., 1., 1., 1.]), 'split4_test_score': array([0.96153846, 1.        , 0.96153846, 1.        , 0.96153846,\n",
      "       1.        , 0.96153846, 1.        ]), 'mean_test_score': array([0.97749288, 0.99259259, 0.98490028, 0.99259259, 0.98490028,\n",
      "       0.98518519, 0.98490028, 0.98518519]), 'std_test_score': array([0.01838435, 0.01481481, 0.01849878, 0.01481481, 0.01849878,\n",
      "       0.01814437, 0.01849878, 0.01814437]), 'rank_test_score': array([8, 1, 5, 1, 5, 3, 5, 3])}\n",
      "SVC(C=0.5, random_state=0)\n",
      "[0.96296296 1.         1.         1.         1.        ]\n",
      "0.9925925925925926\n",
      "0.014814814814814836\n",
      "[2 2 0 0 1 1 1 1 0 1 2 1 0 1 1 0 1 2 1 1 0 2 1 1 2 2 1 1 1 1 2 2 2 0 2 1 1\n",
      " 2 1 2 0 0 1 2 1]\n",
      "0.9333333333333333\n",
      "[[ 9  1  0]\n",
      " [ 0 19  0]\n",
      " [ 0  2 14]]\n",
      "              precision    recall  f1-score   support\n",
      "\n",
      "           0       1.00      0.90      0.95        10\n",
      "           1       0.86      1.00      0.93        19\n",
      "           2       1.00      0.88      0.93        16\n",
      "\n",
      "    accuracy                           0.93        45\n",
      "   macro avg       0.95      0.92      0.94        45\n",
      "weighted avg       0.94      0.93      0.93        45\n",
      "\n"
     ]
    }
   ],
   "source": [
    "# 전체 코드\n",
    "from sklearn import datasets\n",
    "from sklearn.model_selection import train_test_split\n",
    "from sklearn.preprocessing import StandardScaler\n",
    "\n",
    "from sklearn import svm\n",
    "from sklearn.model_selection import StratifiedKFold\n",
    "from sklearn.model_selection import GridSearchCV\n",
    "\n",
    "import numpy as np\n",
    "import pandas as pd\n",
    "\n",
    "from sklearn.model_selection import cross_validate\n",
    "from sklearn.metrics import accuracy_score\n",
    "from sklearn.metrics import confusion_matrix\n",
    "from sklearn.metrics import classification_report\n",
    "\n",
    "# 데이터 불러오기\n",
    "raw_wine = datasets.load_wine()\n",
    "\n",
    "# 피처, 타깃 데이터 지정\n",
    "X = raw_wine.data\n",
    "y = raw_wine.target\n",
    "\n",
    "# 트레이닝/테스트 데이터 분할\n",
    "X_tn, X_te, y_tn, y_te = train_test_split(X, y, )\n",
    "\n",
    "# 데이터 표준화\n",
    "std_scale = StandardScaler()\n",
    "std_scale.fit(X_tn)\n",
    "X_tn_std = std_scale.transform(X_tn)\n",
    "X_te_std = std_scale.transform(X_te)\n",
    "\n",
    "# 그리드 서치 학습\n",
    "param_grid = {'kernel' : ('linear', 'rbf'), 'C': [0.5, 1, 10, 100]}\n",
    "kfold = StratifiedKFold(n_splits=5, shuffle = True, random_state = 0)\n",
    "svc = svm.SVC(random_state=0)\n",
    "grid_cv = GridSearchCV(svc, param_grid, cv = kfold, scoring = 'accuracy')\n",
    "grid_cv.fit(X_tn_std, y_tn)\n",
    "\n",
    "# 그리드 서치 결과 확인\n",
    "print(grid_cv.cv_results_)\n",
    "np.transpose(pd.DataFrame(grid_cv.cv_results_))\n",
    "\n",
    "# 베스트 스코어\n",
    "grid_cv.best_score_\n",
    "\n",
    "# 베스트 하이퍼파라미터\n",
    "grid_cv.best_params_\n",
    "\n",
    "# 최종 모형\n",
    "clf = grid_cv.best_estimator_\n",
    "print(clf)\n",
    "\n",
    "# 크로스 밸리데이션 스코어 확인(1)\n",
    "metrics = ['accuracy', 'precision_macro', 'recall_macro', 'f1_macro']\n",
    "cv_scores = cross_validate(clf, X_tn_std, y_tn, cv = kfold, scoring = metrics)\n",
    "\n",
    "# 크로스 밸리데이션 스코어 확인(2)\n",
    "from sklearn.model_selection import cross_val_score\n",
    "cv_score = cross_val_score(clf, X_tn_std, y_tn, cv = kfold, scoring = 'accuracy')\n",
    "\n",
    "print(cv_score)\n",
    "print(cv_score.mean())\n",
    "print(cv_score.std())\n",
    "\n",
    "# 예측\n",
    "pred_svm = clf.predict(X_te_std)\n",
    "print(pred_svm)\n",
    "\n",
    "# 정확도\n",
    "accuracy = accuracy_score(y_te, pred_svm)\n",
    "print(accuracy)\n",
    "\n",
    "# confusion matirx 확인\n",
    "conf_matrix = confusion_matrix(y_te, pred_svm)\n",
    "print(conf_matrix)\n",
    "\n",
    "# 분류 레포트 확인\n",
    "class_report = classification_report(y_te, pred_svm)\n",
    "print(class_report)"
   ]
  },
  {
   "cell_type": "markdown",
   "id": "606a16c4",
   "metadata": {},
   "source": [
    "# 9. 앙상블 학습"
   ]
  },
  {
   "cell_type": "markdown",
   "id": "f075ca2f",
   "metadata": {},
   "source": [
    "## 9.2 보팅"
   ]
  },
  {
   "cell_type": "code",
   "execution_count": 34,
   "id": "8f46e6ce",
   "metadata": {},
   "outputs": [
    {
     "name": "stdout",
     "output_type": "stream",
     "text": [
      "[2 1 0 2 0 2 0 1 1 1 2 1 1 1 1 0 1 1 0 0 2 1 0 0 2 0 0 1 1 0 2 1 0 2 2 1 0\n",
      " 2]\n",
      "0.9736842105263158\n",
      "[[13  0  0]\n",
      " [ 0 15  1]\n",
      " [ 0  0  9]]\n",
      "              precision    recall  f1-score   support\n",
      "\n",
      "           0       1.00      1.00      1.00        13\n",
      "           1       1.00      0.94      0.97        16\n",
      "           2       0.90      1.00      0.95         9\n",
      "\n",
      "    accuracy                           0.97        38\n",
      "   macro avg       0.97      0.98      0.97        38\n",
      "weighted avg       0.98      0.97      0.97        38\n",
      "\n"
     ]
    }
   ],
   "source": [
    "# 전체 코드\n",
    "from sklearn import datasets\n",
    "from sklearn.model_selection import train_test_split\n",
    "from sklearn.preprocessing import StandardScaler\n",
    "from sklearn.linear_model import LogisticRegression\n",
    "from sklearn import svm\n",
    "from sklearn.naive_bayes import GaussianNB\n",
    "from sklearn.ensemble import VotingClassifier\n",
    "\n",
    "from sklearn.metrics import accuracy_score\n",
    "from sklearn.metrics import confusion_matrix\n",
    "from sklearn.metrics import classification_report\n",
    "\n",
    "# 데이터 불러오기 \n",
    "raw_iris = datasets.load_iris()\n",
    "\n",
    "# 피처, 타깃 데이터 지정\n",
    "X = raw_iris.data\n",
    "y = raw_iris.target\n",
    "\n",
    "# 트레이닝/테스트 데이터 분할\n",
    "X_tn, X_te, y_tn, y_te = train_test_split(X, y, random_state=0)\n",
    "\n",
    "# 데이터 표준화\n",
    "std_scale = StandardScaler()\n",
    "std_scale.fit(X_tn)\n",
    "X_tn_std = std_scale.transform(X_tn)\n",
    "X_te_std = std_scale.transform(X_te)\n",
    "\n",
    "# 보팅 학습\n",
    "clf1 = LogisticRegression(multi_class='multinomial', random_state = 1)\n",
    "clf2 = svm.SVC(kernel = 'linear', random_state=1)\n",
    "clf3 = GaussianNB()\n",
    "\n",
    "clf_voting = VotingClassifier(estimators =[('lr', clf1), ('svm', clf2), ('gnb', clf3)],\n",
    "                             voting = 'hard',\n",
    "                             weights = [1, 1, 1])\n",
    "clf_voting.fit(X_tn_std, y_tn)\n",
    "\n",
    "# 예측\n",
    "pred_voting = clf_voting.predict(X_te_std)\n",
    "print(pred_voting)\n",
    "\n",
    "# 정확도\n",
    "accuracy = accuracy_score(y_te, pred_voting)\n",
    "print(accuracy)\n",
    "\n",
    "# confusion matrix 확인\n",
    "conf_matrix = confusion_matrix(y_te, pred_voting)\n",
    "print(conf_matrix)\n",
    "\n",
    "# 분류 리포트 확인\n",
    "class_report = classification_report(y_te, pred_voting)\n",
    "print(class_report)"
   ]
  },
  {
   "cell_type": "markdown",
   "id": "04db7f95",
   "metadata": {},
   "source": [
    "## 9.3 배깅과 랜덤 포레스트"
   ]
  },
  {
   "cell_type": "code",
   "execution_count": null,
   "id": "dee7741a",
   "metadata": {},
   "outputs": [],
   "source": [
    "# 전체 코드\n",
    "from sklearn import datasets\n",
    "from sklearn.model_selection import train_test_split\n",
    "from sklearn.model_selection import StandardScaler\n",
    "from sklearn.ensemble import RandomForestClassifier\n",
    "\n",
    "from sklearn.metrics import accuracy_score\n",
    "from sklearn.metrics import confusion_matrix\n",
    "from sklearn.metrics import classification_report\n",
    "\n",
    "# 데이터 불러오기 \n",
    "raw_wine = datasets.load_wine()\n",
    "\n"
   ]
  },
  {
   "cell_type": "code",
   "execution_count": null,
   "id": "29128021",
   "metadata": {},
   "outputs": [],
   "source": []
  },
  {
   "cell_type": "code",
   "execution_count": null,
   "id": "736fd1a8",
   "metadata": {},
   "outputs": [],
   "source": []
  },
  {
   "cell_type": "code",
   "execution_count": null,
   "id": "c8c56048",
   "metadata": {},
   "outputs": [],
   "source": []
  },
  {
   "cell_type": "code",
   "execution_count": null,
   "id": "83aabcf0",
   "metadata": {},
   "outputs": [],
   "source": []
  },
  {
   "cell_type": "code",
   "execution_count": null,
   "id": "b398d699",
   "metadata": {},
   "outputs": [],
   "source": []
  },
  {
   "cell_type": "code",
   "execution_count": null,
   "id": "328112a7",
   "metadata": {},
   "outputs": [],
   "source": []
  },
  {
   "cell_type": "code",
   "execution_count": null,
   "id": "7d6be4ba",
   "metadata": {},
   "outputs": [],
   "source": []
  },
  {
   "cell_type": "code",
   "execution_count": null,
   "id": "76c58e59",
   "metadata": {},
   "outputs": [],
   "source": []
  },
  {
   "cell_type": "code",
   "execution_count": null,
   "id": "b337a036",
   "metadata": {},
   "outputs": [],
   "source": []
  },
  {
   "cell_type": "code",
   "execution_count": null,
   "id": "2f15e292",
   "metadata": {},
   "outputs": [],
   "source": []
  },
  {
   "cell_type": "code",
   "execution_count": null,
   "id": "5b33e859",
   "metadata": {},
   "outputs": [],
   "source": []
  },
  {
   "cell_type": "code",
   "execution_count": null,
   "id": "38a5b4ef",
   "metadata": {},
   "outputs": [],
   "source": []
  },
  {
   "cell_type": "code",
   "execution_count": null,
   "id": "c8d80091",
   "metadata": {},
   "outputs": [],
   "source": []
  },
  {
   "cell_type": "code",
   "execution_count": null,
   "id": "5055a73f",
   "metadata": {},
   "outputs": [],
   "source": []
  },
  {
   "cell_type": "code",
   "execution_count": null,
   "id": "03f8b65b",
   "metadata": {},
   "outputs": [],
   "source": []
  },
  {
   "cell_type": "code",
   "execution_count": null,
   "id": "135e5d04",
   "metadata": {},
   "outputs": [],
   "source": []
  },
  {
   "cell_type": "code",
   "execution_count": null,
   "id": "9df08ea0",
   "metadata": {},
   "outputs": [],
   "source": []
  },
  {
   "cell_type": "code",
   "execution_count": null,
   "id": "4bde21a5",
   "metadata": {},
   "outputs": [],
   "source": []
  }
 ],
 "metadata": {
  "hide_input": false,
  "kernelspec": {
   "display_name": "Python 3 (ipykernel)",
   "language": "python",
   "name": "python3"
  },
  "language_info": {
   "codemirror_mode": {
    "name": "ipython",
    "version": 3
   },
   "file_extension": ".py",
   "mimetype": "text/x-python",
   "name": "python",
   "nbconvert_exporter": "python",
   "pygments_lexer": "ipython3",
   "version": "3.9.12"
  }
 },
 "nbformat": 4,
 "nbformat_minor": 5
}
