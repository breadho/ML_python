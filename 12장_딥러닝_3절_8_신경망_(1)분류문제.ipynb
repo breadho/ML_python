{
 "cells": [
  {
   "cell_type": "markdown",
   "metadata": {},
   "source": [
    "# 개별 코드"
   ]
  },
  {
   "cell_type": "code",
   "execution_count": 1,
   "metadata": {},
   "outputs": [],
   "source": [
    "# 랜덤 시드 설정\n",
    "import numpy as np\n",
    "import tensorflow as tf\n",
    "np.random.seed(0)\n",
    "tf.random.set_seed(0)"
   ]
  },
  {
   "cell_type": "code",
   "execution_count": 2,
   "metadata": {},
   "outputs": [],
   "source": [
    "# 데이터 불러오기\n",
    "from sklearn import datasets\n",
    "raw_wine = datasets.load_wine()"
   ]
  },
  {
   "cell_type": "code",
   "execution_count": 3,
   "metadata": {},
   "outputs": [],
   "source": [
    "# 피쳐, 타겟 데이터 지정\n",
    "X = raw_wine.data\n",
    "y = raw_wine.target"
   ]
  },
  {
   "cell_type": "code",
   "execution_count": 4,
   "metadata": {},
   "outputs": [
    {
     "name": "stdout",
     "output_type": "stream",
     "text": [
      "(178, 13)\n"
     ]
    }
   ],
   "source": [
    "# 피쳐 데이터 차원 확인\n",
    "print(X.shape)"
   ]
  },
  {
   "cell_type": "code",
   "execution_count": 5,
   "metadata": {},
   "outputs": [
    {
     "name": "stdout",
     "output_type": "stream",
     "text": [
      "{0, 1, 2}\n"
     ]
    }
   ],
   "source": [
    "# 타겟 데이터 종류 확인\n",
    "print(set(y))"
   ]
  },
  {
   "cell_type": "code",
   "execution_count": 6,
   "metadata": {},
   "outputs": [
    {
     "name": "stdout",
     "output_type": "stream",
     "text": [
      "[[1. 0. 0.]\n",
      " [1. 0. 0.]\n",
      " [1. 0. 0.]\n",
      " [1. 0. 0.]\n",
      " [1. 0. 0.]\n",
      " [1. 0. 0.]\n",
      " [1. 0. 0.]\n",
      " [1. 0. 0.]\n",
      " [1. 0. 0.]\n",
      " [1. 0. 0.]\n",
      " [1. 0. 0.]\n",
      " [1. 0. 0.]\n",
      " [1. 0. 0.]\n",
      " [1. 0. 0.]\n",
      " [1. 0. 0.]\n",
      " [1. 0. 0.]\n",
      " [1. 0. 0.]\n",
      " [1. 0. 0.]\n",
      " [1. 0. 0.]\n",
      " [1. 0. 0.]\n",
      " [1. 0. 0.]\n",
      " [1. 0. 0.]\n",
      " [1. 0. 0.]\n",
      " [1. 0. 0.]\n",
      " [1. 0. 0.]\n",
      " [1. 0. 0.]\n",
      " [1. 0. 0.]\n",
      " [1. 0. 0.]\n",
      " [1. 0. 0.]\n",
      " [1. 0. 0.]\n",
      " [1. 0. 0.]\n",
      " [1. 0. 0.]\n",
      " [1. 0. 0.]\n",
      " [1. 0. 0.]\n",
      " [1. 0. 0.]\n",
      " [1. 0. 0.]\n",
      " [1. 0. 0.]\n",
      " [1. 0. 0.]\n",
      " [1. 0. 0.]\n",
      " [1. 0. 0.]\n",
      " [1. 0. 0.]\n",
      " [1. 0. 0.]\n",
      " [1. 0. 0.]\n",
      " [1. 0. 0.]\n",
      " [1. 0. 0.]\n",
      " [1. 0. 0.]\n",
      " [1. 0. 0.]\n",
      " [1. 0. 0.]\n",
      " [1. 0. 0.]\n",
      " [1. 0. 0.]\n",
      " [1. 0. 0.]\n",
      " [1. 0. 0.]\n",
      " [1. 0. 0.]\n",
      " [1. 0. 0.]\n",
      " [1. 0. 0.]\n",
      " [1. 0. 0.]\n",
      " [1. 0. 0.]\n",
      " [1. 0. 0.]\n",
      " [1. 0. 0.]\n",
      " [0. 1. 0.]\n",
      " [0. 1. 0.]\n",
      " [0. 1. 0.]\n",
      " [0. 1. 0.]\n",
      " [0. 1. 0.]\n",
      " [0. 1. 0.]\n",
      " [0. 1. 0.]\n",
      " [0. 1. 0.]\n",
      " [0. 1. 0.]\n",
      " [0. 1. 0.]\n",
      " [0. 1. 0.]\n",
      " [0. 1. 0.]\n",
      " [0. 1. 0.]\n",
      " [0. 1. 0.]\n",
      " [0. 1. 0.]\n",
      " [0. 1. 0.]\n",
      " [0. 1. 0.]\n",
      " [0. 1. 0.]\n",
      " [0. 1. 0.]\n",
      " [0. 1. 0.]\n",
      " [0. 1. 0.]\n",
      " [0. 1. 0.]\n",
      " [0. 1. 0.]\n",
      " [0. 1. 0.]\n",
      " [0. 1. 0.]\n",
      " [0. 1. 0.]\n",
      " [0. 1. 0.]\n",
      " [0. 1. 0.]\n",
      " [0. 1. 0.]\n",
      " [0. 1. 0.]\n",
      " [0. 1. 0.]\n",
      " [0. 1. 0.]\n",
      " [0. 1. 0.]\n",
      " [0. 1. 0.]\n",
      " [0. 1. 0.]\n",
      " [0. 1. 0.]\n",
      " [0. 1. 0.]\n",
      " [0. 1. 0.]\n",
      " [0. 1. 0.]\n",
      " [0. 1. 0.]\n",
      " [0. 1. 0.]\n",
      " [0. 1. 0.]\n",
      " [0. 1. 0.]\n",
      " [0. 1. 0.]\n",
      " [0. 1. 0.]\n",
      " [0. 1. 0.]\n",
      " [0. 1. 0.]\n",
      " [0. 1. 0.]\n",
      " [0. 1. 0.]\n",
      " [0. 1. 0.]\n",
      " [0. 1. 0.]\n",
      " [0. 1. 0.]\n",
      " [0. 1. 0.]\n",
      " [0. 1. 0.]\n",
      " [0. 1. 0.]\n",
      " [0. 1. 0.]\n",
      " [0. 1. 0.]\n",
      " [0. 1. 0.]\n",
      " [0. 1. 0.]\n",
      " [0. 1. 0.]\n",
      " [0. 1. 0.]\n",
      " [0. 1. 0.]\n",
      " [0. 1. 0.]\n",
      " [0. 1. 0.]\n",
      " [0. 1. 0.]\n",
      " [0. 1. 0.]\n",
      " [0. 1. 0.]\n",
      " [0. 1. 0.]\n",
      " [0. 1. 0.]\n",
      " [0. 1. 0.]\n",
      " [0. 1. 0.]\n",
      " [0. 0. 1.]\n",
      " [0. 0. 1.]\n",
      " [0. 0. 1.]\n",
      " [0. 0. 1.]\n",
      " [0. 0. 1.]\n",
      " [0. 0. 1.]\n",
      " [0. 0. 1.]\n",
      " [0. 0. 1.]\n",
      " [0. 0. 1.]\n",
      " [0. 0. 1.]\n",
      " [0. 0. 1.]\n",
      " [0. 0. 1.]\n",
      " [0. 0. 1.]\n",
      " [0. 0. 1.]\n",
      " [0. 0. 1.]\n",
      " [0. 0. 1.]\n",
      " [0. 0. 1.]\n",
      " [0. 0. 1.]\n",
      " [0. 0. 1.]\n",
      " [0. 0. 1.]\n",
      " [0. 0. 1.]\n",
      " [0. 0. 1.]\n",
      " [0. 0. 1.]\n",
      " [0. 0. 1.]\n",
      " [0. 0. 1.]\n",
      " [0. 0. 1.]\n",
      " [0. 0. 1.]\n",
      " [0. 0. 1.]\n",
      " [0. 0. 1.]\n",
      " [0. 0. 1.]\n",
      " [0. 0. 1.]\n",
      " [0. 0. 1.]\n",
      " [0. 0. 1.]\n",
      " [0. 0. 1.]\n",
      " [0. 0. 1.]\n",
      " [0. 0. 1.]\n",
      " [0. 0. 1.]\n",
      " [0. 0. 1.]\n",
      " [0. 0. 1.]\n",
      " [0. 0. 1.]\n",
      " [0. 0. 1.]\n",
      " [0. 0. 1.]\n",
      " [0. 0. 1.]\n",
      " [0. 0. 1.]\n",
      " [0. 0. 1.]\n",
      " [0. 0. 1.]\n",
      " [0. 0. 1.]\n",
      " [0. 0. 1.]]\n"
     ]
    }
   ],
   "source": [
    "# 타겟 데이터 원-핫 인코딩\n",
    "from tensorflow.keras.utils import to_categorical\n",
    "y_hot = to_categorical(y) \n",
    "print(y_hot)"
   ]
  },
  {
   "cell_type": "code",
   "execution_count": 7,
   "metadata": {},
   "outputs": [],
   "source": [
    "# 트레이닝/테스트 데이터 분할\n",
    "from sklearn.model_selection import train_test_split\n",
    "X_tn, X_te, y_tn, y_te=train_test_split(X, y_hot, \n",
    "                                        random_state=0)"
   ]
  },
  {
   "cell_type": "code",
   "execution_count": 8,
   "metadata": {},
   "outputs": [],
   "source": [
    "# 신경망 생성\n",
    "from tensorflow.keras.models import Sequential\n",
    "from tensorflow.keras.layers import Dense\n",
    "from tensorflow.keras.layers import BatchNormalization\n",
    "from tensorflow.keras.layers import Activation\n",
    "\n",
    "n_feat = X_tn.shape[1]\n",
    "n_class = len(set(y))\n",
    "epo = 30\n",
    "\n",
    "model = Sequential()\n",
    "model.add(Dense(20, input_dim=n_feat))\n",
    "model.add(BatchNormalization())\n",
    "model.add(Activation('relu'))\n",
    "model.add(Dense(n_class))\n",
    "model.add(Activation('softmax'))"
   ]
  },
  {
   "cell_type": "code",
   "execution_count": 9,
   "metadata": {},
   "outputs": [
    {
     "name": "stdout",
     "output_type": "stream",
     "text": [
      "Model: \"sequential\"\n",
      "_________________________________________________________________\n",
      "Layer (type)                 Output Shape              Param #   \n",
      "=================================================================\n",
      "dense (Dense)                (None, 20)                280       \n",
      "_________________________________________________________________\n",
      "batch_normalization (BatchNo (None, 20)                80        \n",
      "_________________________________________________________________\n",
      "activation (Activation)      (None, 20)                0         \n",
      "_________________________________________________________________\n",
      "dense_1 (Dense)              (None, 3)                 63        \n",
      "_________________________________________________________________\n",
      "activation_1 (Activation)    (None, 3)                 0         \n",
      "=================================================================\n",
      "Total params: 423\n",
      "Trainable params: 383\n",
      "Non-trainable params: 40\n",
      "_________________________________________________________________\n"
     ]
    }
   ],
   "source": [
    "# 신경망 모형 구조 확인\n",
    "model.summary()"
   ]
  },
  {
   "cell_type": "code",
   "execution_count": 10,
   "metadata": {},
   "outputs": [],
   "source": [
    "# 모형 컴파일\n",
    "model.compile(loss='categorical_crossentropy', \n",
    "              optimizer='adam', \n",
    "              metrics=['accuracy'])"
   ]
  },
  {
   "cell_type": "code",
   "execution_count": 11,
   "metadata": {},
   "outputs": [
    {
     "name": "stdout",
     "output_type": "stream",
     "text": [
      "Train on 133 samples\n",
      "Epoch 1/30\n",
      "133/133 [==============================] - 1s 5ms/sample - loss: 1.8539 - accuracy: 0.3835\n",
      "Epoch 2/30\n",
      "133/133 [==============================] - 0s 261us/sample - loss: 1.5996 - accuracy: 0.3985\n",
      "Epoch 3/30\n",
      "133/133 [==============================] - 0s 258us/sample - loss: 1.3056 - accuracy: 0.3534\n",
      "Epoch 4/30\n",
      "133/133 [==============================] - 0s 260us/sample - loss: 1.0861 - accuracy: 0.3910\n",
      "Epoch 5/30\n",
      "133/133 [==============================] - 0s 276us/sample - loss: 0.9303 - accuracy: 0.4737\n",
      "Epoch 6/30\n",
      "133/133 [==============================] - 0s 256us/sample - loss: 0.8378 - accuracy: 0.6241\n",
      "Epoch 7/30\n",
      "133/133 [==============================] - 0s 278us/sample - loss: 0.8117 - accuracy: 0.6241\n",
      "Epoch 8/30\n",
      "133/133 [==============================] - 0s 283us/sample - loss: 0.7908 - accuracy: 0.6090\n",
      "Epoch 9/30\n",
      "133/133 [==============================] - 0s 277us/sample - loss: 0.7725 - accuracy: 0.6165\n",
      "Epoch 10/30\n",
      "133/133 [==============================] - 0s 262us/sample - loss: 0.7599 - accuracy: 0.6316\n",
      "Epoch 11/30\n",
      "133/133 [==============================] - 0s 309us/sample - loss: 0.8250 - accuracy: 0.6316\n",
      "Epoch 12/30\n",
      "133/133 [==============================] - 0s 312us/sample - loss: 0.7003 - accuracy: 0.7143\n",
      "Epoch 13/30\n",
      "133/133 [==============================] - 0s 292us/sample - loss: 0.7944 - accuracy: 0.6992\n",
      "Epoch 14/30\n",
      "133/133 [==============================] - 0s 266us/sample - loss: 0.7255 - accuracy: 0.7669\n",
      "Epoch 15/30\n",
      "133/133 [==============================] - 0s 257us/sample - loss: 0.7025 - accuracy: 0.7218\n",
      "Epoch 16/30\n",
      "133/133 [==============================] - 0s 284us/sample - loss: 0.5666 - accuracy: 0.8346\n",
      "Epoch 17/30\n",
      "133/133 [==============================] - 0s 279us/sample - loss: 0.6220 - accuracy: 0.7820\n",
      "Epoch 18/30\n",
      "133/133 [==============================] - 0s 267us/sample - loss: 0.5833 - accuracy: 0.8271\n",
      "Epoch 19/30\n",
      "133/133 [==============================] - 0s 297us/sample - loss: 0.6032 - accuracy: 0.8120\n",
      "Epoch 20/30\n",
      "133/133 [==============================] - 0s 286us/sample - loss: 0.6131 - accuracy: 0.7669\n",
      "Epoch 21/30\n",
      "133/133 [==============================] - 0s 295us/sample - loss: 0.5810 - accuracy: 0.7970\n",
      "Epoch 22/30\n",
      "133/133 [==============================] - 0s 279us/sample - loss: 0.5826 - accuracy: 0.8496\n",
      "Epoch 23/30\n",
      "133/133 [==============================] - 0s 257us/sample - loss: 0.5616 - accuracy: 0.7895\n",
      "Epoch 24/30\n",
      "133/133 [==============================] - 0s 267us/sample - loss: 0.5340 - accuracy: 0.8271\n",
      "Epoch 25/30\n",
      "133/133 [==============================] - 0s 319us/sample - loss: 0.4504 - accuracy: 0.8496\n",
      "Epoch 26/30\n",
      "133/133 [==============================] - 0s 299us/sample - loss: 0.4844 - accuracy: 0.8346\n",
      "Epoch 27/30\n",
      "133/133 [==============================] - 0s 288us/sample - loss: 0.4063 - accuracy: 0.8722\n",
      "Epoch 28/30\n",
      "133/133 [==============================] - 0s 306us/sample - loss: 0.5498 - accuracy: 0.8120\n",
      "Epoch 29/30\n",
      "133/133 [==============================] - 0s 291us/sample - loss: 0.5067 - accuracy: 0.8195\n",
      "Epoch 30/30\n",
      "133/133 [==============================] - 0s 290us/sample - loss: 0.4318 - accuracy: 0.8571\n"
     ]
    }
   ],
   "source": [
    "# 신경망 학습\n",
    "hist = model.fit(X_tn, y_tn, epochs=epo, batch_size=5)"
   ]
  },
  {
   "cell_type": "code",
   "execution_count": 12,
   "metadata": {},
   "outputs": [
    {
     "name": "stdout",
     "output_type": "stream",
     "text": [
      "133/1 [======================================================================================================================================================================================================================================================================================================================================================================================================================================================================================================================================================================================================================================================================================================================================================================================================================================================================================================================================================================================================================================================================================================================================================================================================================================================================================================================================================================================================================================================================================================================================================================================================================================================================================================================================================================================================================================================================================================================================================================================================================================================================================================================================================================================================================================================================================================================================================================================================================================================================================================================================================================================================================================================================================================================================================================================================================================================================================================================================================================================================================================================================================================================================================================================================================================================================================================================================================================================================================================================================================================================================================================================================================================================================================================================================================================================================================================================================================================================================================================================================================================================================================================================================================] - 0s 1ms/sample - loss: 0.3488 - accuracy: 0.8947\n",
      "0.8947368\n"
     ]
    }
   ],
   "source": [
    "# 트레이닝 데이터 평가\n",
    "print(model.evaluate(X_tn, y_tn)[1])"
   ]
  },
  {
   "cell_type": "code",
   "execution_count": 13,
   "metadata": {},
   "outputs": [
    {
     "name": "stdout",
     "output_type": "stream",
     "text": [
      "45/1 [======================================================================================================================================================================================================================================================================================================================================================================================================================================================================================================================================================================================================================================================================================================================================================================================================================================================================================================================================================================================================================================================================================================================================================================================================================================================================================================================================================================================================] - 0s 120us/sample - loss: 0.4090 - accuracy: 0.9333\n",
      "0.93333334\n"
     ]
    }
   ],
   "source": [
    "# 테스트 데이터 평가\n",
    "print(model.evaluate(X_te, y_te)[1])"
   ]
  },
  {
   "cell_type": "code",
   "execution_count": 14,
   "metadata": {},
   "outputs": [
    {
     "name": "stdout",
     "output_type": "stream",
     "text": [
      "[ 1  2  3  4  5  6  7  8  9 10 11 12 13 14 15 16 17 18 19 20 21 22 23 24\n",
      " 25 26 27 28 29 30]\n"
     ]
    }
   ],
   "source": [
    "import numpy as np\n",
    "epoch = np.arange(1,epo+1)\n",
    "print(epoch)"
   ]
  },
  {
   "cell_type": "code",
   "execution_count": 15,
   "metadata": {},
   "outputs": [
    {
     "name": "stdout",
     "output_type": "stream",
     "text": [
      "[0.38345864, 0.39849624, 0.35338345, 0.39097744, 0.47368422, 0.62406015, 0.62406015, 0.60902256, 0.6165413, 0.6315789, 0.6315789, 0.71428573, 0.69924814, 0.7669173, 0.7218045, 0.83458644, 0.7819549, 0.8270677, 0.8120301, 0.7669173, 0.7969925, 0.84962404, 0.7894737, 0.8270677, 0.84962404, 0.83458644, 0.87218046, 0.8120301, 0.81954885, 0.85714287]\n"
     ]
    }
   ],
   "source": [
    "accuracy = hist.history['accuracy'] \n",
    "print(accuracy)"
   ]
  },
  {
   "cell_type": "code",
   "execution_count": 16,
   "metadata": {},
   "outputs": [
    {
     "name": "stdout",
     "output_type": "stream",
     "text": [
      "[1.8539354792214875, 1.5995953688047881, 1.3055668903472728, 1.086131431106338, 0.9302657313812944, 0.8378270523888725, 0.8116603114999327, 0.790762974803609, 0.7725104071143875, 0.7598636412530914, 0.8249642606964684, 0.7002793546009781, 0.794426502365815, 0.7254815018714819, 0.7024975403359062, 0.56655450893524, 0.6219969295469442, 0.5832775627311907, 0.6031937834463621, 0.6130758237121696, 0.5810363117913554, 0.5826486756927088, 0.5615835634613395, 0.5339746764279846, 0.45041022578576456, 0.4843924681943162, 0.4062664297066237, 0.5497611637850454, 0.5066769064817214, 0.4317625097762373]\n"
     ]
    }
   ],
   "source": [
    "loss = hist.history['loss'] \n",
    "print(loss)"
   ]
  },
  {
   "cell_type": "code",
   "execution_count": 17,
   "metadata": {},
   "outputs": [
    {
     "data": {
      "image/png": "[encoded data removed]",
      "text/plain": [
       "<Figure size 432x288 with 1 Axes>"
      ]
     },
     "metadata": {
      "needs_background": "light"
     },
     "output_type": "display_data"
    }
   ],
   "source": [
    "# 정확도 학습 그래프\n",
    "import matplotlib.pyplot as plt\n",
    "\n",
    "plt.plot(epoch, accuracy, label='accuracy')\n",
    "plt.xlabel('epoch')\n",
    "plt.ylabel('accuracy')\n",
    "plt.legend()\n",
    "plt.show()"
   ]
  },
  {
   "cell_type": "code",
   "execution_count": 18,
   "metadata": {},
   "outputs": [
    {
     "data": {
      "image/png": "[encoded data removed]",
      "text/plain": [
       "<Figure size 432x288 with 1 Axes>"
      ]
     },
     "metadata": {
      "needs_background": "light"
     },
     "output_type": "display_data"
    }
   ],
   "source": [
    "# 손실 그래프\n",
    "import matplotlib.pyplot as plt\n",
    "\n",
    "plt.plot(epoch, loss,'r', label='loss')\n",
    "plt.xlabel('epoch')\n",
    "plt.ylabel('loss')\n",
    "plt.legend()\n",
    "plt.show()"
   ]
  },
  {
   "cell_type": "markdown",
   "metadata": {},
   "source": [
    "# 통합코드"
   ]
  },
  {
   "cell_type": "code",
   "execution_count": null,
   "metadata": {},
   "outputs": [],
   "source": [
    "from sklearn import datasets\n",
    "from tensorflow.keras.utils import to_categorical\n",
    "from sklearn.model_selection import train_test_split\n",
    "\n",
    "import numpy as np\n",
    "import tensorflow as tf\n",
    "\n",
    "from tensorflow.keras.models import Sequential\n",
    "from tensorflow.keras.layers import Dense\n",
    "from tensorflow.keras.layers import BatchNormalization\n",
    "from tensorflow.keras.layers import Activation\n",
    "\n",
    "import matplotlib.pyplot as plt\n",
    "\n",
    "# 랜덤 시드 설정\n",
    "np.random.seed(0)\n",
    "tf.random.set_seed(0)\n",
    "\n",
    "# 데이터 불러오기\n",
    "raw_wine = datasets.load_wine()\n",
    "\n",
    "# 피쳐, 타겟 데이터 지정\n",
    "X = raw_wine.data\n",
    "y = raw_wine.target\n",
    "\n",
    "# 피쳐 데이터 차원 확인\n",
    "print(X.shape)\n",
    "\n",
    "# 타겟 데이터 종류 확인\n",
    "print(set(y))\n",
    "\n",
    "# 타겟 데이터 원-핫 인코딩\n",
    "y_hot = to_categorical(y) \n",
    "\n",
    "# 트레이닝/테스트 데이터 분할\n",
    "X_tn, X_te, y_tn, y_te=train_test_split(X, y_hot, \n",
    "                                        random_state=0)\n",
    "\n",
    "# 신경망 생성\n",
    "n_feat = X_tn.shape[1]\n",
    "n_class = len(set(y))\n",
    "epo = 30\n",
    "\n",
    "model = Sequential()\n",
    "model.add(Dense(20, input_dim=n_feat))\n",
    "model.add(BatchNormalization())\n",
    "model.add(Activation('relu'))\n",
    "model.add(Dense(n_class))\n",
    "model.add(Activation('softmax'))\n",
    "\n",
    "# 신경망 모형 구조 확인\n",
    "model.summary()\n",
    "\n",
    "# 모형 컴파일\n",
    "model.compile(loss='categorical_crossentropy', \n",
    "              optimizer='adam', \n",
    "              metrics=['accuracy'])\n",
    "\n",
    "# 신경망 학습\n",
    "hist = model.fit(X_tn, y_tn, epochs=epo, batch_size=5)\n",
    "\n",
    "# 트레이닝 데이터 평가\n",
    "print(model.evaluate(X_tn, y_tn)[1])\n",
    "\n",
    "# 테스트 데이터 평가\n",
    "print(model.evaluate(X_te, y_te)[1])\n",
    "\n",
    "\n",
    "epoch = np.arange(1,epo+1)\n",
    "accuracy = hist.history['accuracy'] \n",
    "loss = hist.history['loss'] \n",
    "\n",
    "# 정확도 학습 그래프\n",
    "plt.plot(epoch, accuracy, label='accuracy')\n",
    "plt.xlabel('epoch')\n",
    "plt.ylabel('accuracy')\n",
    "plt.legend()\n",
    "plt.show()\n",
    "\n",
    "# 손실 그래프\n",
    "plt.plot(epoch, loss,'r', label='loss')\n",
    "plt.xlabel('epoch')\n",
    "plt.ylabel('loss')\n",
    "plt.legend()\n",
    "plt.show()"
   ]
  },
  {
   "cell_type": "code",
   "execution_count": null,
   "metadata": {},
   "outputs": [],
   "source": []
  },
  {
   "cell_type": "code",
   "execution_count": null,
   "metadata": {},
   "outputs": [],
   "source": []
  }
 ],
 "metadata": {
  "kernelspec": {
   "display_name": "Python 3",
   "language": "python",
   "name": "python3"
  },
  "language_info": {
   "codemirror_mode": {
    "name": "ipython",
    "version": 3
   },
   "file_extension": ".py",
   "mimetype": "text/x-python",
   "name": "python",
   "nbconvert_exporter": "python",
   "pygments_lexer": "ipython3",
   "version": "3.7.6"
  }
 },
 "nbformat": 4,
 "nbformat_minor": 4
}
